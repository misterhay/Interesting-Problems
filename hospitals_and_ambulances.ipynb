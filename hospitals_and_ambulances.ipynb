{
  "nbformat": 4,
  "nbformat_minor": 0,
  "metadata": {
    "colab": {
      "name": "hospitals-and-ambulances.ipynb",
      "provenance": [],
      "authorship_tag": "ABX9TyP1swHEmhYFa6L31lQ6ryhP",
      "include_colab_link": true
    },
    "kernelspec": {
      "name": "python3",
      "display_name": "Python 3"
    }
  },
  "cells": [
    {
      "cell_type": "markdown",
      "metadata": {
        "id": "view-in-github",
        "colab_type": "text"
      },
      "source": [
        "<a href=\"https://colab.research.google.com/github/misterhay/Interesting-Problems/blob/master/hospitals_and_ambulances.ipynb\" target=\"_parent\"><img src=\"https://colab.research.google.com/assets/colab-badge.svg\" alt=\"Open In Colab\"/></a>"
      ]
    },
    {
      "cell_type": "markdown",
      "metadata": {
        "id": "flurs0_5VU5e",
        "colab_type": "text"
      },
      "source": [
        "# Hospitals and Ambulances\n",
        "\n",
        "https://puzzlesandfigures.blogspot.com/2019/11/rich-tasks-67-hospitals-and-ambulances.html\n",
        "\n",
        "![image with three dots representing hospital locations](https://4.bp.blogspot.com/-ZduMGp-rAlI/Xd0W9s6SQ3I/AAAAAAAAgBY/V7wLEtDIjvITouf0udJstYeCnBGMZGj4QCK4BGAYYCw/s640/Screen%2BShot%2B2019-11-26%2Bat%2B19.23.52.png)"
      ]
    },
    {
      "cell_type": "code",
      "metadata": {
        "id": "PqtWFUmnUlt7",
        "colab_type": "code",
        "colab": {
          "base_uri": "https://localhost:8080/",
          "height": 265
        },
        "outputId": "e150b2c0-94f7-46c6-f629-1e7a4423baf4"
      },
      "source": [
        "from math import sqrt\n",
        "from numpy import linspace\n",
        "import matplotlib.pyplot as plt\n",
        "\n",
        "a = (1, 5)\n",
        "b = (3, 1)\n",
        "c = (6, 5)\n",
        "x_max = 8\n",
        "y_max = 6\n",
        "precision = 50\n",
        "\n",
        "def calculate_color(location):\n",
        "    distance_to_a = sqrt((a[0]-location[0])**2 + (a[1]-location[1])**2)\n",
        "    distance_to_b = sqrt((b[0]-location[0])**2 + (b[1]-location[1])**2)\n",
        "    distance_to_c = sqrt((c[0]-location[0])**2 + (c[1]-location[1])**2)\n",
        "    #print(distance_to_a, distance_to_b, distance_to_c)\n",
        "    if distance_to_a < distance_to_b and (distance_to_a < distance_to_c):\n",
        "        color = 'green'\n",
        "    elif (distance_to_b < distance_to_a) and (distance_to_b < distance_to_c):\n",
        "        color = 'yellow'\n",
        "    elif (distance_to_c < distance_to_a) and (distance_to_c < distance_to_b):\n",
        "        color = 'red'\n",
        "    else:\n",
        "        color = 'white'\n",
        "    return color\n",
        "\n",
        "def plot_point(location):\n",
        "    color = calculate_color(location)\n",
        "    plt.scatter(location[0], location[1], color=color, marker='.')\n",
        "\n",
        "'''\n",
        "for x in range(x_max+1):\n",
        "    for y in range(y_max+1):\n",
        "        location = (x, y)\n",
        "        plot_point(location)\n",
        "'''\n",
        "for x in linspace(0, x_max, precision):\n",
        "    for y in linspace(0, y_max, precision):\n",
        "        location = (x, y)\n",
        "        plot_point(location)\n",
        "plt.scatter(a[0], a[1], color='black', marker='o')\n",
        "plt.scatter(b[0], b[1], color='black', marker='o')\n",
        "plt.scatter(c[0], c[1], color='black', marker='o')\n",
        "plt.show()"
      ],
      "execution_count": 36,
      "outputs": [
        {
          "output_type": "display_data",
          "data": {
            "image/png": "[encoded data removed]",
            "text/plain": [
              "<Figure size 432x288 with 1 Axes>"
            ]
          },
          "metadata": {
            "tags": []
          }
        }
      ]
    }
  ]
}
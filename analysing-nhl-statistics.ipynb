{
 "cells": [
  {
   "cell_type": "markdown",
   "metadata": {},
   "source": [
    "![Callysto.ca Banner](https://github.com/callysto/curriculum-notebooks/blob/master/callysto-notebook-banner-top.jpg?raw=true)\n",
    "\n",
    "<a href=\"https://hub.callysto.ca/jupyter/hub/user-redirect/git-pull?repo=https%3A%2F%2Fgithub.com%2Fmisterhay%2Finteresting-problems&branch=master&subPath=analysing-nhl-statistics.ipynb&depth=1\" target=\"_parent\"><img src=\"https://raw.githubusercontent.com/callysto/curriculum-notebooks/master/open-in-callysto-button.svg?sanitize=true\" width=\"123\" height=\"24\" alt=\"Open in Callysto\"/></a>"
   ]
  },
  {
   "cell_type": "markdown",
   "metadata": {},
   "source": [
    "# Analysing National Hockey League Statistics\n",
    "\n",
    "We can look at NHL statistics by team or by player, using data from [hockey-reference.com](https://www.hockey-reference.com) or [ESPN NHL Statistics](http://www.espn.com/nhl/statistics).\n"
   ]
  },
  {
   "cell_type": "markdown",
   "metadata": {},
   "source": [
    "## Statistics by Team"
   ]
  },
  {
   "cell_type": "code",
   "execution_count": null,
   "metadata": {},
   "outputs": [],
   "source": [
    "team = 'EDM'\n",
    "year = '2019'\n",
    "\n",
    "# download the data\n",
    "team_stats_url = 'https://www.hockey-reference.com/teams/'+team+'/'+year+'_games.html'\n",
    "team_stats = pd.read_html(team_stats_url)[0]\n",
    "# clean up the data\n",
    "team_stats = team_stats[team_stats['Date']!='Date'].set_index('GP').drop(columns=['W','L','OL','Streak','Notes'])\n",
    "team_stats.columns = ['Date', 'Away', 'Opponent', 'Goals For', 'Goals Against', 'Win', 'Overtime', 'Attendance', 'Duration']\n",
    "team_stats = team_stats.fillna(0).replace('@', 1).replace('OT', 1).replace('W',1).replace('SO',1).replace('L',0)\n",
    "# convert text string columns to number columns\n",
    "team_stats['Goals For'] = pd.to_numeric(team_stats['Goals For'])\n",
    "team_stats['Goals Against'] = pd.to_numeric(team_stats['Goals Against'])\n",
    "team_stats['Attendance'] = pd.to_numeric(team_stats['Attendance'])\n",
    "# convert duration in h:mm to duration in minutes\n",
    "duration_values = team_stats['Duration'].str.split(':', expand=True).astype(int)\n",
    "team_stats['Duration'] = duration_values[0]*60 + duration_values[1]\n",
    "# display the data\n",
    "team_stats"
   ]
  },
  {
   "cell_type": "markdown",
   "metadata": {},
   "source": [
    "### Analysis of Team Data\n",
    "\n",
    "Now that we have data for the games played by a team, we can calculate some statistics.\n",
    "\n",
    "The columns `Away`, `Win`, and `Overtime` are `1` for yes and `0` for no. The `Duration` column is game duration in minutes."
   ]
  },
  {
   "cell_type": "code",
   "execution_count": null,
   "metadata": {},
   "outputs": [],
   "source": [
    "team_stats.describe()"
   ]
  },
  {
   "cell_type": "code",
   "execution_count": null,
   "metadata": {},
   "outputs": [],
   "source": [
    "team_stats.std()"
   ]
  },
  {
   "cell_type": "code",
   "execution_count": null,
   "metadata": {},
   "outputs": [],
   "source": [
    "team_stats.mean()"
   ]
  },
  {
   "cell_type": "code",
   "execution_count": null,
   "metadata": {},
   "outputs": [],
   "source": [
    "team_stats.groupby('Opponent').mean().sort_values('Goals For', ascending=False)"
   ]
  },
  {
   "cell_type": "code",
   "execution_count": null,
   "metadata": {},
   "outputs": [],
   "source": [
    "team_stats.groupby('Away').mean()"
   ]
  },
  {
   "cell_type": "markdown",
   "metadata": {},
   "source": [
    "## Statistics by Player\n",
    "\n",
    "This data set contains the following columns for each player in the NHL:\n",
    "- GP: Games Played\n",
    "- G: Goals\n",
    "- A: Assists\n",
    "- PTS: Points\n",
    "- +/-: Plus/Minus Rating\n",
    "- PIM: Penalty Minutes\n",
    "- PTS/G: Points Per Game\n",
    "- SOG: Shots on Goal\n",
    "- PCT: Shooting Percentage\n",
    "- GWG: Game-Winning Goals\n",
    "- G.1: Power-Play Goals\n",
    "- A.1: Power-Play Assists\n",
    "- G.2: Short-Handed Goals\n",
    "- A.2: Short-Handed Assists\n",
    "\n",
    "This will take a while to run, since it needs to get data from multiple pages."
   ]
  },
  {
   "cell_type": "code",
   "execution_count": null,
   "metadata": {},
   "outputs": [],
   "source": [
    "# download the data\n",
    "points_url = 'http://www.espn.com/nhl/statistics/player/_/stat/points'\n",
    "for i in range(20):\n",
    "    p = pd.read_html(points_url+'/count/'+str(1+40*i), header=1)[0]\n",
    "    p = p[p['PLAYER']!='PLAYER'].dropna(subset=['PLAYER']).fillna(method='ffill')\n",
    "    if i == 0:\n",
    "        points = p\n",
    "    else:\n",
    "        points = points.append(p).reset_index().drop(columns='index')\n",
    "# convert text string columns to number columns\n",
    "for column in points.columns:\n",
    "    if column != 'PLAYER' and column != 'TEAM':\n",
    "        points[column] = pd.to_numeric(points[column])\n",
    "# split the player name and position into two columns\n",
    "points['POSITION'] = points['PLAYER'].str.split(',', expand=True)[1]\n",
    "points['PLAYER'] = points['PLAYER'].str.split(',', expand=True)[0]\n",
    "# display the data\n",
    "points"
   ]
  },
  {
   "cell_type": "code",
   "execution_count": null,
   "metadata": {},
   "outputs": [],
   "source": [
    "points.describe()"
   ]
  },
  {
   "cell_type": "code",
   "execution_count": null,
   "metadata": {},
   "outputs": [],
   "source": [
    "points.groupby('POSITION').mean()"
   ]
  },
  {
   "cell_type": "code",
   "execution_count": null,
   "metadata": {},
   "outputs": [],
   "source": [
    "points.groupby('TEAM').mean() # notice that many players played for two teams"
   ]
  },
  {
   "cell_type": "code",
   "execution_count": null,
   "metadata": {},
   "outputs": [],
   "source": [
    "points.sort_values('SOG', ascending=False)"
   ]
  },
  {
   "cell_type": "markdown",
   "metadata": {},
   "source": [
    "[![Callysto.ca License](https://github.com/callysto/curriculum-notebooks/blob/master/callysto-notebook-banner-bottom.jpg?raw=true)](https://github.com/callysto/curriculum-notebooks/blob/master/LICENSE.md)"
   ]
  }
 ],
 "metadata": {
  "kernelspec": {
   "display_name": "Python 3",
   "language": "python",
   "name": "python3"
  },
  "language_info": {
   "codemirror_mode": {
    "name": "ipython",
    "version": 3
   },
   "file_extension": ".py",
   "mimetype": "text/x-python",
   "name": "python",
   "nbconvert_exporter": "python",
   "pygments_lexer": "ipython3",
   "version": "3.7.6"
  }
 },
 "nbformat": 4,
 "nbformat_minor": 4
}

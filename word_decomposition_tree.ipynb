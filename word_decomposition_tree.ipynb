{
  "nbformat": 4,
  "nbformat_minor": 0,
  "metadata": {
    "colab": {
      "name": "word-decomposition-tree.ipynb",
      "provenance": [],
      "collapsed_sections": []
    },
    "kernelspec": {
      "name": "python3",
      "display_name": "Python 3"
    }
  },
  "cells": [
    {
      "cell_type": "markdown",
      "metadata": {
        "id": "IhPcpJ74T8FC",
        "colab_type": "text"
      },
      "source": [
        "# Word Decomposition Tree\n",
        "\n",
        "In this notebook we will investigate one of the [MIT Technology Review Puzzle Corner](https://cs.nyu.edu/~gottlieb/tr/back-issues/) puzzles from [this article](https://www.theguardian.com/science/2020/feb/10/can-you-solve-it-are-you-smart-enough-for-mit):\n",
        "\n",
        "*The 9-letter word SPLATTERS has an intriguing property. You can remove a single letter to make an 8-letter word, without rearranging the other letters. You can remove another letter to make a 7-letter word, and then a 6-letter word, and so on down to a single-letter word.*\n",
        "\n",
        "*At no stage is the order of the letters rearranged.*\n",
        "\n",
        "*Find two other 9-letter words that share the same property.*"
      ]
    },
    {
      "cell_type": "markdown",
      "metadata": {
        "id": "BwMwZ6JMWGAf",
        "colab_type": "text"
      },
      "source": [
        "### Python Libraries\n",
        "\n",
        "We will use a few different Python libraries:\n",
        "\n",
        "`pyspellchecker` to test if fragments are words (this needs to be installed)\n",
        "\n",
        "`pandas` for creating and manipulating dataframes\n",
        "\n",
        "`numpy` to find values in a dataframe\n",
        "\n",
        "`graphviz` for creating the tree visualization"
      ]
    },
    {
      "cell_type": "code",
      "metadata": {
        "id": "_BqBmyVgV0CD",
        "colab_type": "code",
        "outputId": "31b48eb7-d759-4ee7-e208-8641307c9024",
        "colab": {
          "base_uri": "https://localhost:8080/",
          "height": 51
        }
      },
      "source": [
        "\n",
        "!pip install pyspellchecker\n",
        "from spellchecker import SpellChecker\n",
        "spell = SpellChecker()\n",
        "import pandas as pd\n",
        "import numpy as np\n",
        "from graphviz import Digraph\n",
        "dot = Digraph()\n",
        "print('Libraries imported, we are ready to go.')"
      ],
      "execution_count": 1,
      "outputs": [
        {
          "output_type": "stream",
          "text": [
            "Requirement already satisfied: pyspellchecker in /usr/local/lib/python3.6/dist-packages (0.5.4)\n",
            "Libraries imported, we are ready to go.\n"
          ],
          "name": "stdout"
        }
      ]
    },
    {
      "cell_type": "markdown",
      "metadata": {
        "id": "bwoPUC-BegD2",
        "colab_type": "text"
      },
      "source": [
        "## Defining Functions\n",
        "\n",
        "Let's define a function for checking if a particular word fragment is a word, and another function for finding the \"children\" of a word by removing a letter from each possible position."
      ]
    },
    {
      "cell_type": "code",
      "metadata": {
        "id": "hxh1O1rKem1W",
        "colab_type": "code",
        "colab": {
          "base_uri": "https://localhost:8080/",
          "height": 34
        },
        "outputId": "dac9c898-c308-4bf7-db0d-a58ff33e7816"
      },
      "source": [
        "def is_word(word_fragment):\n",
        "    if len(word_fragment) == 1: # despite what the dictionary says, there should only be two single-letter English words\n",
        "        if word_fragment == 'a' or word_fragment == 'i':\n",
        "            is_word_boolean = True\n",
        "        else:\n",
        "            is_word_boolean = False\n",
        "    else:\n",
        "        is_word_boolean = spell.correction(word_fragment) == word_fragment # if the correct spelling is the same as the word, then it's a word\n",
        "    return is_word_boolean\n",
        "\n",
        "def find_child_words(word):\n",
        "    child_word_list = []\n",
        "    for index in range(len(word)):\n",
        "        child_word = word[:index] + word[index+1:]\n",
        "        if is_word(child_word):\n",
        "            child_word_list.append(child_word)\n",
        "    return child_word_list\n",
        "\n",
        "print('Functions defined')"
      ],
      "execution_count": 2,
      "outputs": [
        {
          "output_type": "stream",
          "text": [
            "Functions defined\n"
          ],
          "name": "stdout"
        }
      ]
    },
    {
      "cell_type": "markdown",
      "metadata": {
        "id": "jjhECHeveHxT",
        "colab_type": "text"
      },
      "source": [
        "## Decomposing a Word\n",
        "\n",
        "Starting with the suggested word `splatters`, we will create a dataframe of \"child words\" (along with the lenght of each child word) and their \"parent words\"."
      ]
    },
    {
      "cell_type": "code",
      "metadata": {
        "id": "TpEIvOKXeLlM",
        "colab_type": "code",
        "outputId": "64ab5374-db2c-4102-ed67-6608032bc37b",
        "colab": {
          "base_uri": "https://localhost:8080/",
          "height": 359
        }
      },
      "source": [
        "starting_word = 'splatters'\n",
        "#starting_word = 'sparkling'\n",
        "#starting_word = 'startling'\n",
        "\n",
        "df = pd.DataFrame(columns=['Length', 'Word', 'Parent'])\n",
        "def add_to_word_df(df, child_word, parent_word):\n",
        "    df = df.append({'Length': len(child_word), 'Word': child_word, 'Parent': parent_word}, ignore_index=True)\n",
        "    return df\n",
        "df = add_to_word_df(df, starting_word, 'NA')\n",
        "\n",
        "for iterator in range(len(starting_word), 1, -1): # count down iterator\n",
        "    parent_word_list = df[df['Length']==iterator]['Word'].values.tolist() # for each word that is iterator length\n",
        "    for parent_word in parent_word_list:\n",
        "        child_word_list = find_child_words(parent_word)\n",
        "        for child_word in child_word_list:\n",
        "            df = add_to_word_df(df, child_word, parent_word)\n",
        "\n",
        "df.head(10)"
      ],
      "execution_count": 3,
      "outputs": [
        {
          "output_type": "execute_result",
          "data": {
            "text/html": [
              "<div>\n",
              "<style scoped>\n",
              "    .dataframe tbody tr th:only-of-type {\n",
              "        vertical-align: middle;\n",
              "    }\n",
              "\n",
              "    .dataframe tbody tr th {\n",
              "        vertical-align: top;\n",
              "    }\n",
              "\n",
              "    .dataframe thead th {\n",
              "        text-align: right;\n",
              "    }\n",
              "</style>\n",
              "<table border=\"1\" class=\"dataframe\">\n",
              "  <thead>\n",
              "    <tr style=\"text-align: right;\">\n",
              "      <th></th>\n",
              "      <th>Length</th>\n",
              "      <th>Word</th>\n",
              "      <th>Parent</th>\n",
              "    </tr>\n",
              "  </thead>\n",
              "  <tbody>\n",
              "    <tr>\n",
              "      <th>0</th>\n",
              "      <td>9</td>\n",
              "      <td>splatters</td>\n",
              "      <td>NA</td>\n",
              "    </tr>\n",
              "    <tr>\n",
              "      <th>1</th>\n",
              "      <td>8</td>\n",
              "      <td>platters</td>\n",
              "      <td>splatters</td>\n",
              "    </tr>\n",
              "    <tr>\n",
              "      <th>2</th>\n",
              "      <td>8</td>\n",
              "      <td>splatter</td>\n",
              "      <td>splatters</td>\n",
              "    </tr>\n",
              "    <tr>\n",
              "      <th>3</th>\n",
              "      <td>7</td>\n",
              "      <td>patters</td>\n",
              "      <td>platters</td>\n",
              "    </tr>\n",
              "    <tr>\n",
              "      <th>4</th>\n",
              "      <td>7</td>\n",
              "      <td>platter</td>\n",
              "      <td>platters</td>\n",
              "    </tr>\n",
              "    <tr>\n",
              "      <th>5</th>\n",
              "      <td>7</td>\n",
              "      <td>platter</td>\n",
              "      <td>splatter</td>\n",
              "    </tr>\n",
              "    <tr>\n",
              "      <th>6</th>\n",
              "      <td>7</td>\n",
              "      <td>slatter</td>\n",
              "      <td>splatter</td>\n",
              "    </tr>\n",
              "    <tr>\n",
              "      <th>7</th>\n",
              "      <td>7</td>\n",
              "      <td>spatter</td>\n",
              "      <td>splatter</td>\n",
              "    </tr>\n",
              "    <tr>\n",
              "      <th>8</th>\n",
              "      <td>6</td>\n",
              "      <td>patter</td>\n",
              "      <td>patters</td>\n",
              "    </tr>\n",
              "    <tr>\n",
              "      <th>9</th>\n",
              "      <td>6</td>\n",
              "      <td>latter</td>\n",
              "      <td>platter</td>\n",
              "    </tr>\n",
              "  </tbody>\n",
              "</table>\n",
              "</div>"
            ],
            "text/plain": [
              "  Length       Word     Parent\n",
              "0      9  splatters         NA\n",
              "1      8   platters  splatters\n",
              "2      8   splatter  splatters\n",
              "3      7    patters   platters\n",
              "4      7    platter   platters\n",
              "5      7    platter   splatter\n",
              "6      7    slatter   splatter\n",
              "7      7    spatter   splatter\n",
              "8      6     patter    patters\n",
              "9      6     latter    platter"
            ]
          },
          "metadata": {
            "tags": []
          },
          "execution_count": 3
        }
      ]
    },
    {
      "cell_type": "markdown",
      "metadata": {
        "id": "gfPmZLICfdCx",
        "colab_type": "text"
      },
      "source": [
        "# Manipulating the Dataframe\n",
        "\n",
        "Now that we've created a data set of possible words and their \"children\", let's manipulate it so that we have just the unique child words and associated lists of their parent words.\n",
        "\n",
        "We'll use this to create the tree visualization later."
      ]
    },
    {
      "cell_type": "code",
      "metadata": {
        "id": "rya190sYNHel",
        "colab_type": "code",
        "outputId": "e3a0c63b-8685-48bb-a4c3-e2d46ee841b8",
        "colab": {
          "base_uri": "https://localhost:8080/",
          "height": 359
        }
      },
      "source": [
        "df_unique_multiple_parents = df.drop_duplicates('Word') # remove duplicate child words\n",
        "df_unique_multiple_parents.reset_index(drop=True, inplace=True) # re-number the rows\n",
        "for row_number, row in df_unique_multiple_parents.iterrows():\n",
        "    row[2] = df[df['Word']==row[1]]['Parent'].drop_duplicates().tolist() # add a list of parent words for each child word\n",
        "\n",
        "df_unique_multiple_parents.head(10)"
      ],
      "execution_count": 4,
      "outputs": [
        {
          "output_type": "execute_result",
          "data": {
            "text/html": [
              "<div>\n",
              "<style scoped>\n",
              "    .dataframe tbody tr th:only-of-type {\n",
              "        vertical-align: middle;\n",
              "    }\n",
              "\n",
              "    .dataframe tbody tr th {\n",
              "        vertical-align: top;\n",
              "    }\n",
              "\n",
              "    .dataframe thead th {\n",
              "        text-align: right;\n",
              "    }\n",
              "</style>\n",
              "<table border=\"1\" class=\"dataframe\">\n",
              "  <thead>\n",
              "    <tr style=\"text-align: right;\">\n",
              "      <th></th>\n",
              "      <th>Length</th>\n",
              "      <th>Word</th>\n",
              "      <th>Parent</th>\n",
              "    </tr>\n",
              "  </thead>\n",
              "  <tbody>\n",
              "    <tr>\n",
              "      <th>0</th>\n",
              "      <td>9</td>\n",
              "      <td>splatters</td>\n",
              "      <td>[NA]</td>\n",
              "    </tr>\n",
              "    <tr>\n",
              "      <th>1</th>\n",
              "      <td>8</td>\n",
              "      <td>platters</td>\n",
              "      <td>[splatters]</td>\n",
              "    </tr>\n",
              "    <tr>\n",
              "      <th>2</th>\n",
              "      <td>8</td>\n",
              "      <td>splatter</td>\n",
              "      <td>[splatters]</td>\n",
              "    </tr>\n",
              "    <tr>\n",
              "      <th>3</th>\n",
              "      <td>7</td>\n",
              "      <td>patters</td>\n",
              "      <td>[platters]</td>\n",
              "    </tr>\n",
              "    <tr>\n",
              "      <th>4</th>\n",
              "      <td>7</td>\n",
              "      <td>platter</td>\n",
              "      <td>[platters, splatter]</td>\n",
              "    </tr>\n",
              "    <tr>\n",
              "      <th>5</th>\n",
              "      <td>7</td>\n",
              "      <td>slatter</td>\n",
              "      <td>[splatter]</td>\n",
              "    </tr>\n",
              "    <tr>\n",
              "      <th>6</th>\n",
              "      <td>7</td>\n",
              "      <td>spatter</td>\n",
              "      <td>[splatter]</td>\n",
              "    </tr>\n",
              "    <tr>\n",
              "      <th>7</th>\n",
              "      <td>6</td>\n",
              "      <td>patter</td>\n",
              "      <td>[patters, platter, spatter]</td>\n",
              "    </tr>\n",
              "    <tr>\n",
              "      <th>8</th>\n",
              "      <td>6</td>\n",
              "      <td>latter</td>\n",
              "      <td>[platter, slatter]</td>\n",
              "    </tr>\n",
              "    <tr>\n",
              "      <th>9</th>\n",
              "      <td>6</td>\n",
              "      <td>slater</td>\n",
              "      <td>[slatter]</td>\n",
              "    </tr>\n",
              "  </tbody>\n",
              "</table>\n",
              "</div>"
            ],
            "text/plain": [
              "  Length       Word                       Parent\n",
              "0      9  splatters                         [NA]\n",
              "1      8   platters                  [splatters]\n",
              "2      8   splatter                  [splatters]\n",
              "3      7    patters                   [platters]\n",
              "4      7    platter         [platters, splatter]\n",
              "5      7    slatter                   [splatter]\n",
              "6      7    spatter                   [splatter]\n",
              "7      6     patter  [patters, platter, spatter]\n",
              "8      6     latter           [platter, slatter]\n",
              "9      6     slater                    [slatter]"
            ]
          },
          "metadata": {
            "tags": []
          },
          "execution_count": 4
        }
      ]
    },
    {
      "cell_type": "markdown",
      "metadata": {
        "id": "eanV260cgAtL",
        "colab_type": "text"
      },
      "source": [
        "# Visualizing the Word Tree\n",
        "\n",
        "From this new dataframe of unique child words and lists of their parent words, we can create a word tree."
      ]
    },
    {
      "cell_type": "code",
      "metadata": {
        "id": "mGF-yh5AW-Ov",
        "colab_type": "code",
        "outputId": "f70327ba-8920-41a4-b88e-3e48c95164e5",
        "colab": {
          "base_uri": "https://localhost:8080/",
          "height": 848
        }
      },
      "source": [
        "for row_index, row in df_unique_multiple_parents.iterrows():\n",
        "    word = row['Word']\n",
        "    if row_index == 0: # do this for the first row, which has no parent\n",
        "        dot.node(str(row_index), word)\n",
        "    else:\n",
        "        dot.node(str(row_index), word)\n",
        "        parent_list = row['Parent']\n",
        "        for parent_word in parent_list:\n",
        "            parent_index = np.where(df_unique_multiple_parents['Word'] == parent_word)[0][0]\n",
        "            dot.edge(str(parent_index), str(row_index))\n",
        "\n",
        "# display the tree\n",
        "dot"
      ],
      "execution_count": 5,
      "outputs": [
        {
          "output_type": "execute_result",
          "data": {
            "text/plain": [
              "<graphviz.dot.Digraph at 0x7f62d67a2278>"
            ],
            "image/svg+xml": "<?xml version=\"1.0\" encoding=\"UTF-8\" standalone=\"no\"?>\n<!DOCTYPE svg PUBLIC \"-//W3C//DTD SVG 1.1//EN\"\n \"http://www.w3.org/Graphics/SVG/1.1/DTD/svg11.dtd\">\n<!-- Generated by graphviz version 2.40.1 (20161225.0304)\n -->\n<!-- Title: %3 Pages: 1 -->\n<svg width=\"854pt\" height=\"620pt\"\n viewBox=\"0.00 0.00 854.00 620.00\" xmlns=\"http://www.w3.org/2000/svg\" xmlns:xlink=\"http://www.w3.org/1999/xlink\">\n<g id=\"graph0\" class=\"graph\" transform=\"scale(1 1) rotate(0) translate(4 616)\">\n<title>%3</title>\n<polygon fill=\"#ffffff\" stroke=\"transparent\" points=\"-4,4 -4,-616 850,-616 850,4 -4,4\"/>\n<!-- 0 -->\n<g id=\"node1\" class=\"node\">\n<title>0</title>\n<ellipse fill=\"none\" stroke=\"#000000\" cx=\"315\" cy=\"-594\" rx=\"40.0939\" ry=\"18\"/>\n<text text-anchor=\"middle\" x=\"315\" y=\"-590.3\" font-family=\"Times,serif\" font-size=\"14.00\" fill=\"#000000\">splatters</text>\n</g>\n<!-- 1 -->\n<g id=\"node2\" class=\"node\">\n<title>1</title>\n<ellipse fill=\"none\" stroke=\"#000000\" cx=\"269\" cy=\"-522\" rx=\"37.0935\" ry=\"18\"/>\n<text text-anchor=\"middle\" x=\"269\" y=\"-518.3\" font-family=\"Times,serif\" font-size=\"14.00\" fill=\"#000000\">platters</text>\n</g>\n<!-- 0&#45;&gt;1 -->\n<g id=\"edge1\" class=\"edge\">\n<title>0&#45;&gt;1</title>\n<path fill=\"none\" stroke=\"#000000\" d=\"M303.8647,-576.5708C298.3839,-567.9922 291.6654,-557.4762 285.594,-547.9732\"/>\n<polygon fill=\"#000000\" stroke=\"#000000\" points=\"288.3662,-545.8113 280.0328,-539.2687 282.4673,-549.58 288.3662,-545.8113\"/>\n</g>\n<!-- 2 -->\n<g id=\"node3\" class=\"node\">\n<title>2</title>\n<ellipse fill=\"none\" stroke=\"#000000\" cx=\"361\" cy=\"-522\" rx=\"37.0935\" ry=\"18\"/>\n<text text-anchor=\"middle\" x=\"361\" y=\"-518.3\" font-family=\"Times,serif\" font-size=\"14.00\" fill=\"#000000\">splatter</text>\n</g>\n<!-- 0&#45;&gt;2 -->\n<g id=\"edge2\" class=\"edge\">\n<title>0&#45;&gt;2</title>\n<path fill=\"none\" stroke=\"#000000\" d=\"M326.1353,-576.5708C331.6161,-567.9922 338.3346,-557.4762 344.406,-547.9732\"/>\n<polygon fill=\"#000000\" stroke=\"#000000\" points=\"347.5327,-549.58 349.9672,-539.2687 341.6338,-545.8113 347.5327,-549.58\"/>\n</g>\n<!-- 3 -->\n<g id=\"node4\" class=\"node\">\n<title>3</title>\n<ellipse fill=\"none\" stroke=\"#000000\" cx=\"189\" cy=\"-450\" rx=\"34.394\" ry=\"18\"/>\n<text text-anchor=\"middle\" x=\"189\" y=\"-446.3\" font-family=\"Times,serif\" font-size=\"14.00\" fill=\"#000000\">patters</text>\n</g>\n<!-- 1&#45;&gt;3 -->\n<g id=\"edge3\" class=\"edge\">\n<title>1&#45;&gt;3</title>\n<path fill=\"none\" stroke=\"#000000\" d=\"M251.2454,-506.0209C240.2947,-496.1652 226.0824,-483.3742 214.0035,-472.5032\"/>\n<polygon fill=\"#000000\" stroke=\"#000000\" points=\"216.2041,-469.7749 206.4297,-465.6867 211.5213,-474.978 216.2041,-469.7749\"/>\n</g>\n<!-- 4 -->\n<g id=\"node5\" class=\"node\">\n<title>4</title>\n<ellipse fill=\"none\" stroke=\"#000000\" cx=\"275\" cy=\"-450\" rx=\"33.5952\" ry=\"18\"/>\n<text text-anchor=\"middle\" x=\"275\" y=\"-446.3\" font-family=\"Times,serif\" font-size=\"14.00\" fill=\"#000000\">platter</text>\n</g>\n<!-- 1&#45;&gt;4 -->\n<g id=\"edge4\" class=\"edge\">\n<title>1&#45;&gt;4</title>\n<path fill=\"none\" stroke=\"#000000\" d=\"M270.5141,-503.8314C271.1558,-496.131 271.9188,-486.9743 272.6319,-478.4166\"/>\n<polygon fill=\"#000000\" stroke=\"#000000\" points=\"276.1229,-478.6694 273.4656,-468.4133 269.1471,-478.088 276.1229,-478.6694\"/>\n</g>\n<!-- 2&#45;&gt;4 -->\n<g id=\"edge5\" class=\"edge\">\n<title>2&#45;&gt;4</title>\n<path fill=\"none\" stroke=\"#000000\" d=\"M342.3393,-506.3771C330.3117,-496.3075 314.4959,-483.0663 301.2144,-471.947\"/>\n<polygon fill=\"#000000\" stroke=\"#000000\" points=\"303.2432,-469.0808 293.3289,-465.3451 298.7497,-474.4481 303.2432,-469.0808\"/>\n</g>\n<!-- 5 -->\n<g id=\"node6\" class=\"node\">\n<title>5</title>\n<ellipse fill=\"none\" stroke=\"#000000\" cx=\"446\" cy=\"-450\" rx=\"32.4942\" ry=\"18\"/>\n<text text-anchor=\"middle\" x=\"446\" y=\"-446.3\" font-family=\"Times,serif\" font-size=\"14.00\" fill=\"#000000\">slatter</text>\n</g>\n<!-- 2&#45;&gt;5 -->\n<g id=\"edge6\" class=\"edge\">\n<title>2&#45;&gt;5</title>\n<path fill=\"none\" stroke=\"#000000\" d=\"M379.4437,-506.3771C391.4123,-496.239 407.1762,-482.886 420.3579,-471.7203\"/>\n<polygon fill=\"#000000\" stroke=\"#000000\" points=\"422.8065,-474.2332 428.1747,-465.099 418.282,-468.8919 422.8065,-474.2332\"/>\n</g>\n<!-- 6 -->\n<g id=\"node7\" class=\"node\">\n<title>6</title>\n<ellipse fill=\"none\" stroke=\"#000000\" cx=\"361\" cy=\"-450\" rx=\"34.394\" ry=\"18\"/>\n<text text-anchor=\"middle\" x=\"361\" y=\"-446.3\" font-family=\"Times,serif\" font-size=\"14.00\" fill=\"#000000\">spatter</text>\n</g>\n<!-- 2&#45;&gt;6 -->\n<g id=\"edge7\" class=\"edge\">\n<title>2&#45;&gt;6</title>\n<path fill=\"none\" stroke=\"#000000\" d=\"M361,-503.8314C361,-496.131 361,-486.9743 361,-478.4166\"/>\n<polygon fill=\"#000000\" stroke=\"#000000\" points=\"364.5001,-478.4132 361,-468.4133 357.5001,-478.4133 364.5001,-478.4132\"/>\n</g>\n<!-- 7 -->\n<g id=\"node8\" class=\"node\">\n<title>7</title>\n<ellipse fill=\"none\" stroke=\"#000000\" cx=\"273\" cy=\"-378\" rx=\"31.3957\" ry=\"18\"/>\n<text text-anchor=\"middle\" x=\"273\" y=\"-374.3\" font-family=\"Times,serif\" font-size=\"14.00\" fill=\"#000000\">patter</text>\n</g>\n<!-- 3&#45;&gt;7 -->\n<g id=\"edge8\" class=\"edge\">\n<title>3&#45;&gt;7</title>\n<path fill=\"none\" stroke=\"#000000\" d=\"M207.2267,-434.3771C219.0545,-424.239 234.6329,-410.886 247.6596,-399.7203\"/>\n<polygon fill=\"#000000\" stroke=\"#000000\" points=\"250.0696,-402.2644 255.3845,-393.099 245.5141,-396.9496 250.0696,-402.2644\"/>\n</g>\n<!-- 4&#45;&gt;7 -->\n<g id=\"edge9\" class=\"edge\">\n<title>4&#45;&gt;7</title>\n<path fill=\"none\" stroke=\"#000000\" d=\"M274.4953,-431.8314C274.2814,-424.131 274.0271,-414.9743 273.7894,-406.4166\"/>\n<polygon fill=\"#000000\" stroke=\"#000000\" points=\"277.2879,-406.3122 273.5115,-396.4133 270.2906,-406.5066 277.2879,-406.3122\"/>\n</g>\n<!-- 8 -->\n<g id=\"node9\" class=\"node\">\n<title>8</title>\n<ellipse fill=\"none\" stroke=\"#000000\" cx=\"374\" cy=\"-378\" rx=\"28.6953\" ry=\"18\"/>\n<text text-anchor=\"middle\" x=\"374\" y=\"-374.3\" font-family=\"Times,serif\" font-size=\"14.00\" fill=\"#000000\">latter</text>\n</g>\n<!-- 4&#45;&gt;8 -->\n<g id=\"edge11\" class=\"edge\">\n<title>4&#45;&gt;8</title>\n<path fill=\"none\" stroke=\"#000000\" d=\"M295.0341,-435.4297C309.9493,-424.5823 330.4762,-409.6537 346.8631,-397.7359\"/>\n<polygon fill=\"#000000\" stroke=\"#000000\" points=\"348.9746,-400.5281 355.0033,-391.8158 344.8573,-394.8669 348.9746,-400.5281\"/>\n</g>\n<!-- 5&#45;&gt;8 -->\n<g id=\"edge12\" class=\"edge\">\n<title>5&#45;&gt;8</title>\n<path fill=\"none\" stroke=\"#000000\" d=\"M430.0209,-434.0209C420.1918,-424.1918 407.4431,-411.4431 396.591,-400.591\"/>\n<polygon fill=\"#000000\" stroke=\"#000000\" points=\"398.9863,-398.0365 389.4403,-393.4403 394.0365,-402.9863 398.9863,-398.0365\"/>\n</g>\n<!-- 9 -->\n<g id=\"node10\" class=\"node\">\n<title>9</title>\n<ellipse fill=\"none\" stroke=\"#000000\" cx=\"450\" cy=\"-378\" rx=\"29.795\" ry=\"18\"/>\n<text text-anchor=\"middle\" x=\"450\" y=\"-374.3\" font-family=\"Times,serif\" font-size=\"14.00\" fill=\"#000000\">slater</text>\n</g>\n<!-- 5&#45;&gt;9 -->\n<g id=\"edge13\" class=\"edge\">\n<title>5&#45;&gt;9</title>\n<path fill=\"none\" stroke=\"#000000\" d=\"M447.0094,-431.8314C447.4372,-424.131 447.9459,-414.9743 448.4213,-406.4166\"/>\n<polygon fill=\"#000000\" stroke=\"#000000\" points=\"451.9169,-406.592 448.977,-396.4133 444.9276,-406.2037 451.9169,-406.592\"/>\n</g>\n<!-- 6&#45;&gt;7 -->\n<g id=\"edge10\" class=\"edge\">\n<title>6&#45;&gt;7</title>\n<path fill=\"none\" stroke=\"#000000\" d=\"M342.3375,-434.7307C329.685,-424.3786 312.7922,-410.5573 298.8485,-399.1488\"/>\n<polygon fill=\"#000000\" stroke=\"#000000\" points=\"300.9897,-396.3785 291.0338,-392.7549 296.557,-401.7962 300.9897,-396.3785\"/>\n</g>\n<!-- 10 -->\n<g id=\"node11\" class=\"node\">\n<title>10</title>\n<ellipse fill=\"none\" stroke=\"#000000\" cx=\"251\" cy=\"-306\" rx=\"28.6953\" ry=\"18\"/>\n<text text-anchor=\"middle\" x=\"251\" y=\"-302.3\" font-family=\"Times,serif\" font-size=\"14.00\" fill=\"#000000\">pater</text>\n</g>\n<!-- 7&#45;&gt;10 -->\n<g id=\"edge14\" class=\"edge\">\n<title>7&#45;&gt;10</title>\n<path fill=\"none\" stroke=\"#000000\" d=\"M267.5618,-360.2022C265.1026,-352.1541 262.1402,-342.4588 259.4048,-333.5067\"/>\n<polygon fill=\"#000000\" stroke=\"#000000\" points=\"262.7214,-332.3833 256.4519,-323.8425 256.0269,-334.4289 262.7214,-332.3833\"/>\n</g>\n<!-- 11 -->\n<g id=\"node12\" class=\"node\">\n<title>11</title>\n<ellipse fill=\"none\" stroke=\"#000000\" cx=\"380\" cy=\"-306\" rx=\"27\" ry=\"18\"/>\n<text text-anchor=\"middle\" x=\"380\" y=\"-302.3\" font-family=\"Times,serif\" font-size=\"14.00\" fill=\"#000000\">later</text>\n</g>\n<!-- 8&#45;&gt;11 -->\n<g id=\"edge15\" class=\"edge\">\n<title>8&#45;&gt;11</title>\n<path fill=\"none\" stroke=\"#000000\" d=\"M375.5141,-359.8314C376.1558,-352.131 376.9188,-342.9743 377.6319,-334.4166\"/>\n<polygon fill=\"#000000\" stroke=\"#000000\" points=\"381.1229,-334.6694 378.4656,-324.4133 374.1471,-334.088 381.1229,-334.6694\"/>\n</g>\n<!-- 9&#45;&gt;11 -->\n<g id=\"edge16\" class=\"edge\">\n<title>9&#45;&gt;11</title>\n<path fill=\"none\" stroke=\"#000000\" d=\"M434.811,-362.3771C425.2712,-352.5647 412.8035,-339.7407 402.1697,-328.8031\"/>\n<polygon fill=\"#000000\" stroke=\"#000000\" points=\"404.6396,-326.3226 395.1593,-321.5924 399.6206,-331.2022 404.6396,-326.3226\"/>\n</g>\n<!-- 12 -->\n<g id=\"node13\" class=\"node\">\n<title>12</title>\n<ellipse fill=\"none\" stroke=\"#000000\" cx=\"452\" cy=\"-306\" rx=\"27\" ry=\"18\"/>\n<text text-anchor=\"middle\" x=\"452\" y=\"-302.3\" font-family=\"Times,serif\" font-size=\"14.00\" fill=\"#000000\">slate</text>\n</g>\n<!-- 9&#45;&gt;12 -->\n<g id=\"edge17\" class=\"edge\">\n<title>9&#45;&gt;12</title>\n<path fill=\"none\" stroke=\"#000000\" d=\"M450.5047,-359.8314C450.7186,-352.131 450.9729,-342.9743 451.2106,-334.4166\"/>\n<polygon fill=\"#000000\" stroke=\"#000000\" points=\"454.7094,-334.5066 451.4885,-324.4133 447.7121,-334.3122 454.7094,-334.5066\"/>\n</g>\n<!-- 13 -->\n<g id=\"node14\" class=\"node\">\n<title>13</title>\n<ellipse fill=\"none\" stroke=\"#000000\" cx=\"240\" cy=\"-234\" rx=\"27\" ry=\"18\"/>\n<text text-anchor=\"middle\" x=\"240\" y=\"-230.3\" font-family=\"Times,serif\" font-size=\"14.00\" fill=\"#000000\">pate</text>\n</g>\n<!-- 10&#45;&gt;13 -->\n<g id=\"edge18\" class=\"edge\">\n<title>10&#45;&gt;13</title>\n<path fill=\"none\" stroke=\"#000000\" d=\"M248.2242,-287.8314C247.0297,-280.0125 245.6058,-270.6923 244.2812,-262.0221\"/>\n<polygon fill=\"#000000\" stroke=\"#000000\" points=\"247.707,-261.2701 242.7368,-251.9134 240.7873,-262.3273 247.707,-261.2701\"/>\n</g>\n<!-- 14 -->\n<g id=\"node15\" class=\"node\">\n<title>14</title>\n<ellipse fill=\"none\" stroke=\"#000000\" cx=\"387\" cy=\"-234\" rx=\"27\" ry=\"18\"/>\n<text text-anchor=\"middle\" x=\"387\" y=\"-230.3\" font-family=\"Times,serif\" font-size=\"14.00\" fill=\"#000000\">late</text>\n</g>\n<!-- 11&#45;&gt;14 -->\n<g id=\"edge19\" class=\"edge\">\n<title>11&#45;&gt;14</title>\n<path fill=\"none\" stroke=\"#000000\" d=\"M381.7664,-287.8314C382.515,-280.131 383.4053,-270.9743 384.2373,-262.4166\"/>\n<polygon fill=\"#000000\" stroke=\"#000000\" points=\"387.7256,-262.7051 385.2098,-252.4133 380.7585,-262.0276 387.7256,-262.7051\"/>\n</g>\n<!-- 12&#45;&gt;14 -->\n<g id=\"edge20\" class=\"edge\">\n<title>12&#45;&gt;14</title>\n<path fill=\"none\" stroke=\"#000000\" d=\"M437.896,-290.3771C429.1227,-280.659 417.6827,-267.987 407.8714,-257.1191\"/>\n<polygon fill=\"#000000\" stroke=\"#000000\" points=\"410.3755,-254.6698 401.0765,-249.5924 405.1796,-259.3605 410.3755,-254.6698\"/>\n</g>\n<!-- 15 -->\n<g id=\"node16\" class=\"node\">\n<title>15</title>\n<ellipse fill=\"none\" stroke=\"#000000\" cx=\"603\" cy=\"-234\" rx=\"27\" ry=\"18\"/>\n<text text-anchor=\"middle\" x=\"603\" y=\"-230.3\" font-family=\"Times,serif\" font-size=\"14.00\" fill=\"#000000\">slat</text>\n</g>\n<!-- 12&#45;&gt;15 -->\n<g id=\"edge21\" class=\"edge\">\n<title>12&#45;&gt;15</title>\n<path fill=\"none\" stroke=\"#000000\" d=\"M474.2806,-295.3762C499.9301,-283.1459 542.2532,-262.9654 571.3215,-249.105\"/>\n<polygon fill=\"#000000\" stroke=\"#000000\" points=\"573.108,-252.1307 580.628,-244.6674 570.0952,-245.8122 573.108,-252.1307\"/>\n</g>\n<!-- 16 -->\n<g id=\"node17\" class=\"node\">\n<title>16</title>\n<ellipse fill=\"none\" stroke=\"#000000\" cx=\"315\" cy=\"-162\" rx=\"27\" ry=\"18\"/>\n<text text-anchor=\"middle\" x=\"315\" y=\"-158.3\" font-family=\"Times,serif\" font-size=\"14.00\" fill=\"#000000\">ate</text>\n</g>\n<!-- 13&#45;&gt;16 -->\n<g id=\"edge22\" class=\"edge\">\n<title>13&#45;&gt;16</title>\n<path fill=\"none\" stroke=\"#000000\" d=\"M255.54,-219.0816C266.099,-208.945 280.2444,-195.3654 292.0892,-183.9944\"/>\n<polygon fill=\"#000000\" stroke=\"#000000\" points=\"294.6898,-186.3495 299.4799,-176.8993 289.8421,-181.2998 294.6898,-186.3495\"/>\n</g>\n<!-- 17 -->\n<g id=\"node18\" class=\"node\">\n<title>17</title>\n<ellipse fill=\"none\" stroke=\"#000000\" cx=\"117\" cy=\"-162\" rx=\"27\" ry=\"18\"/>\n<text text-anchor=\"middle\" x=\"117\" y=\"-158.3\" font-family=\"Times,serif\" font-size=\"14.00\" fill=\"#000000\">pte</text>\n</g>\n<!-- 13&#45;&gt;17 -->\n<g id=\"edge24\" class=\"edge\">\n<title>13&#45;&gt;17</title>\n<path fill=\"none\" stroke=\"#000000\" d=\"M219.6891,-222.1107C199.6588,-210.3857 168.8404,-192.3456 146.189,-179.0862\"/>\n<polygon fill=\"#000000\" stroke=\"#000000\" points=\"147.7394,-175.9383 137.3411,-173.907 144.2031,-181.9794 147.7394,-175.9383\"/>\n</g>\n<!-- 18 -->\n<g id=\"node19\" class=\"node\">\n<title>18</title>\n<ellipse fill=\"none\" stroke=\"#000000\" cx=\"225\" cy=\"-162\" rx=\"27\" ry=\"18\"/>\n<text text-anchor=\"middle\" x=\"225\" y=\"-158.3\" font-family=\"Times,serif\" font-size=\"14.00\" fill=\"#000000\">pat</text>\n</g>\n<!-- 13&#45;&gt;18 -->\n<g id=\"edge25\" class=\"edge\">\n<title>13&#45;&gt;18</title>\n<path fill=\"none\" stroke=\"#000000\" d=\"M236.2149,-215.8314C234.568,-207.9266 232.6015,-198.4872 230.7784,-189.7365\"/>\n<polygon fill=\"#000000\" stroke=\"#000000\" points=\"234.198,-188.9894 228.732,-179.9134 227.3452,-190.4171 234.198,-188.9894\"/>\n</g>\n<!-- 14&#45;&gt;16 -->\n<g id=\"edge23\" class=\"edge\">\n<title>14&#45;&gt;16</title>\n<path fill=\"none\" stroke=\"#000000\" d=\"M371.7307,-218.7307C361.803,-208.803 348.6847,-195.6847 337.5637,-184.5637\"/>\n<polygon fill=\"#000000\" stroke=\"#000000\" points=\"339.7933,-181.8436 330.2473,-177.2473 334.8436,-186.7933 339.7933,-181.8436\"/>\n</g>\n<!-- 19 -->\n<g id=\"node20\" class=\"node\">\n<title>19</title>\n<ellipse fill=\"none\" stroke=\"#000000\" cx=\"387\" cy=\"-162\" rx=\"27\" ry=\"18\"/>\n<text text-anchor=\"middle\" x=\"387\" y=\"-158.3\" font-family=\"Times,serif\" font-size=\"14.00\" fill=\"#000000\">lte</text>\n</g>\n<!-- 14&#45;&gt;19 -->\n<g id=\"edge26\" class=\"edge\">\n<title>14&#45;&gt;19</title>\n<path fill=\"none\" stroke=\"#000000\" d=\"M387,-215.8314C387,-208.131 387,-198.9743 387,-190.4166\"/>\n<polygon fill=\"#000000\" stroke=\"#000000\" points=\"390.5001,-190.4132 387,-180.4133 383.5001,-190.4133 390.5001,-190.4132\"/>\n</g>\n<!-- 20 -->\n<g id=\"node21\" class=\"node\">\n<title>20</title>\n<ellipse fill=\"none\" stroke=\"#000000\" cx=\"531\" cy=\"-162\" rx=\"27\" ry=\"18\"/>\n<text text-anchor=\"middle\" x=\"531\" y=\"-158.3\" font-family=\"Times,serif\" font-size=\"14.00\" fill=\"#000000\">lat</text>\n</g>\n<!-- 14&#45;&gt;20 -->\n<g id=\"edge27\" class=\"edge\">\n<title>14&#45;&gt;20</title>\n<path fill=\"none\" stroke=\"#000000\" d=\"M408.8705,-223.0647C433.2222,-210.8889 472.762,-191.119 500.2285,-177.3858\"/>\n<polygon fill=\"#000000\" stroke=\"#000000\" points=\"502.0165,-180.4049 509.3955,-172.8022 498.886,-174.1439 502.0165,-180.4049\"/>\n</g>\n<!-- 15&#45;&gt;20 -->\n<g id=\"edge28\" class=\"edge\">\n<title>15&#45;&gt;20</title>\n<path fill=\"none\" stroke=\"#000000\" d=\"M587.7307,-218.7307C577.803,-208.803 564.6847,-195.6847 553.5637,-184.5637\"/>\n<polygon fill=\"#000000\" stroke=\"#000000\" points=\"555.7933,-181.8436 546.2473,-177.2473 550.8436,-186.7933 555.7933,-181.8436\"/>\n</g>\n<!-- 21 -->\n<g id=\"node22\" class=\"node\">\n<title>21</title>\n<ellipse fill=\"none\" stroke=\"#000000\" cx=\"603\" cy=\"-162\" rx=\"27\" ry=\"18\"/>\n<text text-anchor=\"middle\" x=\"603\" y=\"-158.3\" font-family=\"Times,serif\" font-size=\"14.00\" fill=\"#000000\">sat</text>\n</g>\n<!-- 15&#45;&gt;21 -->\n<g id=\"edge29\" class=\"edge\">\n<title>15&#45;&gt;21</title>\n<path fill=\"none\" stroke=\"#000000\" d=\"M603,-215.8314C603,-208.131 603,-198.9743 603,-190.4166\"/>\n<polygon fill=\"#000000\" stroke=\"#000000\" points=\"606.5001,-190.4132 603,-180.4133 599.5001,-190.4133 606.5001,-190.4132\"/>\n</g>\n<!-- 22 -->\n<g id=\"node23\" class=\"node\">\n<title>22</title>\n<ellipse fill=\"none\" stroke=\"#000000\" cx=\"675\" cy=\"-162\" rx=\"27\" ry=\"18\"/>\n<text text-anchor=\"middle\" x=\"675\" y=\"-158.3\" font-family=\"Times,serif\" font-size=\"14.00\" fill=\"#000000\">slt</text>\n</g>\n<!-- 15&#45;&gt;22 -->\n<g id=\"edge30\" class=\"edge\">\n<title>15&#45;&gt;22</title>\n<path fill=\"none\" stroke=\"#000000\" d=\"M618.2693,-218.7307C628.197,-208.803 641.3153,-195.6847 652.4363,-184.5637\"/>\n<polygon fill=\"#000000\" stroke=\"#000000\" points=\"655.1564,-186.7933 659.7527,-177.2473 650.2067,-181.8436 655.1564,-186.7933\"/>\n</g>\n<!-- 23 -->\n<g id=\"node24\" class=\"node\">\n<title>23</title>\n<ellipse fill=\"none\" stroke=\"#000000\" cx=\"747\" cy=\"-162\" rx=\"27\" ry=\"18\"/>\n<text text-anchor=\"middle\" x=\"747\" y=\"-158.3\" font-family=\"Times,serif\" font-size=\"14.00\" fill=\"#000000\">sla</text>\n</g>\n<!-- 15&#45;&gt;23 -->\n<g id=\"edge31\" class=\"edge\">\n<title>15&#45;&gt;23</title>\n<path fill=\"none\" stroke=\"#000000\" d=\"M624.8705,-223.0647C649.2222,-210.8889 688.762,-191.119 716.2285,-177.3858\"/>\n<polygon fill=\"#000000\" stroke=\"#000000\" points=\"718.0165,-180.4049 725.3955,-172.8022 714.886,-174.1439 718.0165,-180.4049\"/>\n</g>\n<!-- 24 -->\n<g id=\"node25\" class=\"node\">\n<title>24</title>\n<ellipse fill=\"none\" stroke=\"#000000\" cx=\"315\" cy=\"-90\" rx=\"27\" ry=\"18\"/>\n<text text-anchor=\"middle\" x=\"315\" y=\"-86.3\" font-family=\"Times,serif\" font-size=\"14.00\" fill=\"#000000\">te</text>\n</g>\n<!-- 16&#45;&gt;24 -->\n<g id=\"edge32\" class=\"edge\">\n<title>16&#45;&gt;24</title>\n<path fill=\"none\" stroke=\"#000000\" d=\"M315,-143.8314C315,-136.131 315,-126.9743 315,-118.4166\"/>\n<polygon fill=\"#000000\" stroke=\"#000000\" points=\"318.5001,-118.4132 315,-108.4133 311.5001,-118.4133 318.5001,-118.4132\"/>\n</g>\n<!-- 25 -->\n<g id=\"node26\" class=\"node\">\n<title>25</title>\n<ellipse fill=\"none\" stroke=\"#000000\" cx=\"243\" cy=\"-90\" rx=\"27\" ry=\"18\"/>\n<text text-anchor=\"middle\" x=\"243\" y=\"-86.3\" font-family=\"Times,serif\" font-size=\"14.00\" fill=\"#000000\">ae</text>\n</g>\n<!-- 16&#45;&gt;25 -->\n<g id=\"edge35\" class=\"edge\">\n<title>16&#45;&gt;25</title>\n<path fill=\"none\" stroke=\"#000000\" d=\"M299.7307,-146.7307C289.803,-136.803 276.6847,-123.6847 265.5637,-112.5637\"/>\n<polygon fill=\"#000000\" stroke=\"#000000\" points=\"267.7933,-109.8436 258.2473,-105.2473 262.8436,-114.7933 267.7933,-109.8436\"/>\n</g>\n<!-- 26 -->\n<g id=\"node27\" class=\"node\">\n<title>26</title>\n<ellipse fill=\"none\" stroke=\"#000000\" cx=\"459\" cy=\"-90\" rx=\"27\" ry=\"18\"/>\n<text text-anchor=\"middle\" x=\"459\" y=\"-86.3\" font-family=\"Times,serif\" font-size=\"14.00\" fill=\"#000000\">at</text>\n</g>\n<!-- 16&#45;&gt;26 -->\n<g id=\"edge36\" class=\"edge\">\n<title>16&#45;&gt;26</title>\n<path fill=\"none\" stroke=\"#000000\" d=\"M336.8705,-151.0647C361.2222,-138.8889 400.762,-119.119 428.2285,-105.3858\"/>\n<polygon fill=\"#000000\" stroke=\"#000000\" points=\"430.0165,-108.4049 437.3955,-100.8022 426.886,-102.1439 430.0165,-108.4049\"/>\n</g>\n<!-- 17&#45;&gt;24 -->\n<g id=\"edge33\" class=\"edge\">\n<title>17&#45;&gt;24</title>\n<path fill=\"none\" stroke=\"#000000\" d=\"M142.1022,-154.8412C174.2922,-145.3877 231.6159,-127.6271 279,-108 280.7915,-107.2579 282.6176,-106.4653 284.4498,-105.6416\"/>\n<polygon fill=\"#000000\" stroke=\"#000000\" points=\"285.9792,-108.7901 293.5289,-101.357 282.9916,-102.4596 285.9792,-108.7901\"/>\n</g>\n<!-- 27 -->\n<g id=\"node28\" class=\"node\">\n<title>27</title>\n<ellipse fill=\"none\" stroke=\"#000000\" cx=\"27\" cy=\"-90\" rx=\"27\" ry=\"18\"/>\n<text text-anchor=\"middle\" x=\"27\" y=\"-86.3\" font-family=\"Times,serif\" font-size=\"14.00\" fill=\"#000000\">pe</text>\n</g>\n<!-- 17&#45;&gt;27 -->\n<g id=\"edge40\" class=\"edge\">\n<title>17&#45;&gt;27</title>\n<path fill=\"none\" stroke=\"#000000\" d=\"M99.6471,-148.1177C86.2003,-137.3602 67.3761,-122.3009 52.259,-110.2072\"/>\n<polygon fill=\"#000000\" stroke=\"#000000\" points=\"54.2948,-107.3536 44.2996,-103.8397 49.9219,-112.8197 54.2948,-107.3536\"/>\n</g>\n<!-- 28 -->\n<g id=\"node29\" class=\"node\">\n<title>28</title>\n<ellipse fill=\"none\" stroke=\"#000000\" cx=\"99\" cy=\"-90\" rx=\"27\" ry=\"18\"/>\n<text text-anchor=\"middle\" x=\"99\" y=\"-86.3\" font-family=\"Times,serif\" font-size=\"14.00\" fill=\"#000000\">pt</text>\n</g>\n<!-- 17&#45;&gt;28 -->\n<g id=\"edge41\" class=\"edge\">\n<title>17&#45;&gt;28</title>\n<path fill=\"none\" stroke=\"#000000\" d=\"M112.5506,-144.2022C110.5602,-136.2406 108.1668,-126.6671 105.9489,-117.7957\"/>\n<polygon fill=\"#000000\" stroke=\"#000000\" points=\"109.2816,-116.6951 103.4606,-107.8425 102.4906,-118.3929 109.2816,-116.6951\"/>\n</g>\n<!-- 18&#45;&gt;26 -->\n<g id=\"edge37\" class=\"edge\">\n<title>18&#45;&gt;26</title>\n<path fill=\"none\" stroke=\"#000000\" d=\"M249.0687,-153.5374C258.3702,-150.3829 269.1325,-146.8734 279,-144 342.3388,-125.5557 361.128,-130.8879 423,-108 424.8678,-107.3091 426.7659,-106.5489 428.6644,-105.7434\"/>\n<polygon fill=\"#000000\" stroke=\"#000000\" points=\"430.3926,-108.8014 438.022,-101.4499 427.4734,-102.4391 430.3926,-108.8014\"/>\n</g>\n<!-- 18&#45;&gt;28 -->\n<g id=\"edge42\" class=\"edge\">\n<title>18&#45;&gt;28</title>\n<path fill=\"none\" stroke=\"#000000\" d=\"M204.4755,-150.2717C183.7908,-138.4519 151.6713,-120.0979 128.3091,-106.7481\"/>\n<polygon fill=\"#000000\" stroke=\"#000000\" points=\"129.9347,-103.6459 119.5157,-101.7233 126.4617,-109.7236 129.9347,-103.6459\"/>\n</g>\n<!-- 29 -->\n<g id=\"node30\" class=\"node\">\n<title>29</title>\n<ellipse fill=\"none\" stroke=\"#000000\" cx=\"171\" cy=\"-90\" rx=\"27\" ry=\"18\"/>\n<text text-anchor=\"middle\" x=\"171\" y=\"-86.3\" font-family=\"Times,serif\" font-size=\"14.00\" fill=\"#000000\">pa</text>\n</g>\n<!-- 18&#45;&gt;29 -->\n<g id=\"edge43\" class=\"edge\">\n<title>18&#45;&gt;29</title>\n<path fill=\"none\" stroke=\"#000000\" d=\"M212.7466,-145.6621C205.8423,-136.4564 197.0823,-124.7764 189.3715,-114.4953\"/>\n<polygon fill=\"#000000\" stroke=\"#000000\" points=\"192.005,-112.1733 183.2049,-106.2733 186.405,-116.3733 192.005,-112.1733\"/>\n</g>\n<!-- 19&#45;&gt;24 -->\n<g id=\"edge34\" class=\"edge\">\n<title>19&#45;&gt;24</title>\n<path fill=\"none\" stroke=\"#000000\" d=\"M371.7307,-146.7307C361.803,-136.803 348.6847,-123.6847 337.5637,-112.5637\"/>\n<polygon fill=\"#000000\" stroke=\"#000000\" points=\"339.7933,-109.8436 330.2473,-105.2473 334.8436,-114.7933 339.7933,-109.8436\"/>\n</g>\n<!-- 30 -->\n<g id=\"node31\" class=\"node\">\n<title>30</title>\n<ellipse fill=\"none\" stroke=\"#000000\" cx=\"387\" cy=\"-90\" rx=\"27\" ry=\"18\"/>\n<text text-anchor=\"middle\" x=\"387\" y=\"-86.3\" font-family=\"Times,serif\" font-size=\"14.00\" fill=\"#000000\">le</text>\n</g>\n<!-- 19&#45;&gt;30 -->\n<g id=\"edge44\" class=\"edge\">\n<title>19&#45;&gt;30</title>\n<path fill=\"none\" stroke=\"#000000\" d=\"M387,-143.8314C387,-136.131 387,-126.9743 387,-118.4166\"/>\n<polygon fill=\"#000000\" stroke=\"#000000\" points=\"390.5001,-118.4132 387,-108.4133 383.5001,-118.4133 390.5001,-118.4132\"/>\n</g>\n<!-- 31 -->\n<g id=\"node32\" class=\"node\">\n<title>31</title>\n<ellipse fill=\"none\" stroke=\"#000000\" cx=\"531\" cy=\"-90\" rx=\"27\" ry=\"18\"/>\n<text text-anchor=\"middle\" x=\"531\" y=\"-86.3\" font-family=\"Times,serif\" font-size=\"14.00\" fill=\"#000000\">lt</text>\n</g>\n<!-- 19&#45;&gt;31 -->\n<g id=\"edge45\" class=\"edge\">\n<title>19&#45;&gt;31</title>\n<path fill=\"none\" stroke=\"#000000\" d=\"M408.8705,-151.0647C433.2222,-138.8889 472.762,-119.119 500.2285,-105.3858\"/>\n<polygon fill=\"#000000\" stroke=\"#000000\" points=\"502.0165,-108.4049 509.3955,-100.8022 498.886,-102.1439 502.0165,-108.4049\"/>\n</g>\n<!-- 20&#45;&gt;26 -->\n<g id=\"edge38\" class=\"edge\">\n<title>20&#45;&gt;26</title>\n<path fill=\"none\" stroke=\"#000000\" d=\"M515.7307,-146.7307C505.803,-136.803 492.6847,-123.6847 481.5637,-112.5637\"/>\n<polygon fill=\"#000000\" stroke=\"#000000\" points=\"483.7933,-109.8436 474.2473,-105.2473 478.8436,-114.7933 483.7933,-109.8436\"/>\n</g>\n<!-- 20&#45;&gt;31 -->\n<g id=\"edge46\" class=\"edge\">\n<title>20&#45;&gt;31</title>\n<path fill=\"none\" stroke=\"#000000\" d=\"M531,-143.8314C531,-136.131 531,-126.9743 531,-118.4166\"/>\n<polygon fill=\"#000000\" stroke=\"#000000\" points=\"534.5001,-118.4132 531,-108.4133 527.5001,-118.4133 534.5001,-118.4132\"/>\n</g>\n<!-- 32 -->\n<g id=\"node33\" class=\"node\">\n<title>32</title>\n<ellipse fill=\"none\" stroke=\"#000000\" cx=\"603\" cy=\"-90\" rx=\"27\" ry=\"18\"/>\n<text text-anchor=\"middle\" x=\"603\" y=\"-86.3\" font-family=\"Times,serif\" font-size=\"14.00\" fill=\"#000000\">la</text>\n</g>\n<!-- 20&#45;&gt;32 -->\n<g id=\"edge48\" class=\"edge\">\n<title>20&#45;&gt;32</title>\n<path fill=\"none\" stroke=\"#000000\" d=\"M546.2693,-146.7307C556.197,-136.803 569.3153,-123.6847 580.4363,-112.5637\"/>\n<polygon fill=\"#000000\" stroke=\"#000000\" points=\"583.1564,-114.7933 587.7527,-105.2473 578.2067,-109.8436 583.1564,-114.7933\"/>\n</g>\n<!-- 21&#45;&gt;26 -->\n<g id=\"edge39\" class=\"edge\">\n<title>21&#45;&gt;26</title>\n<path fill=\"none\" stroke=\"#000000\" d=\"M581.1295,-151.0647C556.7778,-138.8889 517.238,-119.119 489.7715,-105.3858\"/>\n<polygon fill=\"#000000\" stroke=\"#000000\" points=\"491.114,-102.1439 480.6045,-100.8022 487.9835,-108.4049 491.114,-102.1439\"/>\n</g>\n<!-- 33 -->\n<g id=\"node34\" class=\"node\">\n<title>33</title>\n<ellipse fill=\"none\" stroke=\"#000000\" cx=\"675\" cy=\"-90\" rx=\"27\" ry=\"18\"/>\n<text text-anchor=\"middle\" x=\"675\" y=\"-86.3\" font-family=\"Times,serif\" font-size=\"14.00\" fill=\"#000000\">st</text>\n</g>\n<!-- 21&#45;&gt;33 -->\n<g id=\"edge50\" class=\"edge\">\n<title>21&#45;&gt;33</title>\n<path fill=\"none\" stroke=\"#000000\" d=\"M618.2693,-146.7307C628.197,-136.803 641.3153,-123.6847 652.4363,-112.5637\"/>\n<polygon fill=\"#000000\" stroke=\"#000000\" points=\"655.1564,-114.7933 659.7527,-105.2473 650.2067,-109.8436 655.1564,-114.7933\"/>\n</g>\n<!-- 34 -->\n<g id=\"node35\" class=\"node\">\n<title>34</title>\n<ellipse fill=\"none\" stroke=\"#000000\" cx=\"747\" cy=\"-90\" rx=\"27\" ry=\"18\"/>\n<text text-anchor=\"middle\" x=\"747\" y=\"-86.3\" font-family=\"Times,serif\" font-size=\"14.00\" fill=\"#000000\">sa</text>\n</g>\n<!-- 21&#45;&gt;34 -->\n<g id=\"edge52\" class=\"edge\">\n<title>21&#45;&gt;34</title>\n<path fill=\"none\" stroke=\"#000000\" d=\"M624.8705,-151.0647C649.2222,-138.8889 688.762,-119.119 716.2285,-105.3858\"/>\n<polygon fill=\"#000000\" stroke=\"#000000\" points=\"718.0165,-108.4049 725.3955,-100.8022 714.886,-102.1439 718.0165,-108.4049\"/>\n</g>\n<!-- 22&#45;&gt;31 -->\n<g id=\"edge47\" class=\"edge\">\n<title>22&#45;&gt;31</title>\n<path fill=\"none\" stroke=\"#000000\" d=\"M653.1295,-151.0647C628.7778,-138.8889 589.238,-119.119 561.7715,-105.3858\"/>\n<polygon fill=\"#000000\" stroke=\"#000000\" points=\"563.114,-102.1439 552.6045,-100.8022 559.9835,-108.4049 563.114,-102.1439\"/>\n</g>\n<!-- 22&#45;&gt;33 -->\n<g id=\"edge51\" class=\"edge\">\n<title>22&#45;&gt;33</title>\n<path fill=\"none\" stroke=\"#000000\" d=\"M675,-143.8314C675,-136.131 675,-126.9743 675,-118.4166\"/>\n<polygon fill=\"#000000\" stroke=\"#000000\" points=\"678.5001,-118.4132 675,-108.4133 671.5001,-118.4133 678.5001,-118.4132\"/>\n</g>\n<!-- 35 -->\n<g id=\"node36\" class=\"node\">\n<title>35</title>\n<ellipse fill=\"none\" stroke=\"#000000\" cx=\"819\" cy=\"-90\" rx=\"27\" ry=\"18\"/>\n<text text-anchor=\"middle\" x=\"819\" y=\"-86.3\" font-family=\"Times,serif\" font-size=\"14.00\" fill=\"#000000\">sl</text>\n</g>\n<!-- 22&#45;&gt;35 -->\n<g id=\"edge54\" class=\"edge\">\n<title>22&#45;&gt;35</title>\n<path fill=\"none\" stroke=\"#000000\" d=\"M696.8705,-151.0647C721.2222,-138.8889 760.762,-119.119 788.2285,-105.3858\"/>\n<polygon fill=\"#000000\" stroke=\"#000000\" points=\"790.0165,-108.4049 797.3955,-100.8022 786.886,-102.1439 790.0165,-108.4049\"/>\n</g>\n<!-- 23&#45;&gt;32 -->\n<g id=\"edge49\" class=\"edge\">\n<title>23&#45;&gt;32</title>\n<path fill=\"none\" stroke=\"#000000\" d=\"M725.1295,-151.0647C700.7778,-138.8889 661.238,-119.119 633.7715,-105.3858\"/>\n<polygon fill=\"#000000\" stroke=\"#000000\" points=\"635.114,-102.1439 624.6045,-100.8022 631.9835,-108.4049 635.114,-102.1439\"/>\n</g>\n<!-- 23&#45;&gt;34 -->\n<g id=\"edge53\" class=\"edge\">\n<title>23&#45;&gt;34</title>\n<path fill=\"none\" stroke=\"#000000\" d=\"M747,-143.8314C747,-136.131 747,-126.9743 747,-118.4166\"/>\n<polygon fill=\"#000000\" stroke=\"#000000\" points=\"750.5001,-118.4132 747,-108.4133 743.5001,-118.4133 750.5001,-118.4132\"/>\n</g>\n<!-- 23&#45;&gt;35 -->\n<g id=\"edge55\" class=\"edge\">\n<title>23&#45;&gt;35</title>\n<path fill=\"none\" stroke=\"#000000\" d=\"M762.2693,-146.7307C772.197,-136.803 785.3153,-123.6847 796.4363,-112.5637\"/>\n<polygon fill=\"#000000\" stroke=\"#000000\" points=\"799.1564,-114.7933 803.7527,-105.2473 794.2067,-109.8436 799.1564,-114.7933\"/>\n</g>\n<!-- 36 -->\n<g id=\"node37\" class=\"node\">\n<title>36</title>\n<ellipse fill=\"none\" stroke=\"#000000\" cx=\"459\" cy=\"-18\" rx=\"27\" ry=\"18\"/>\n<text text-anchor=\"middle\" x=\"459\" y=\"-14.3\" font-family=\"Times,serif\" font-size=\"14.00\" fill=\"#000000\">a</text>\n</g>\n<!-- 25&#45;&gt;36 -->\n<g id=\"edge56\" class=\"edge\">\n<title>25&#45;&gt;36</title>\n<path fill=\"none\" stroke=\"#000000\" d=\"M264.0435,-78.721C268.885,-76.3395 274.0634,-73.9578 279,-72 328.0676,-52.5409 387.0086,-36.1096 423.7451,-26.6511\"/>\n<polygon fill=\"#000000\" stroke=\"#000000\" points=\"424.663,-30.0292 433.4913,-24.1715 422.937,-23.2453 424.663,-30.0292\"/>\n</g>\n<!-- 26&#45;&gt;36 -->\n<g id=\"edge57\" class=\"edge\">\n<title>26&#45;&gt;36</title>\n<path fill=\"none\" stroke=\"#000000\" d=\"M459,-71.8314C459,-64.131 459,-54.9743 459,-46.4166\"/>\n<polygon fill=\"#000000\" stroke=\"#000000\" points=\"462.5001,-46.4132 459,-36.4133 455.5001,-46.4133 462.5001,-46.4132\"/>\n</g>\n<!-- 29&#45;&gt;36 -->\n<g id=\"edge58\" class=\"edge\">\n<title>29&#45;&gt;36</title>\n<path fill=\"none\" stroke=\"#000000\" d=\"M191.9328,-78.4245C196.78,-76.0584 201.9887,-73.7579 207,-72 281.3014,-45.9365 372.5342,-30.1884 422.308,-22.89\"/>\n<polygon fill=\"#000000\" stroke=\"#000000\" points=\"422.877,-26.3443 432.2789,-21.4602 421.8833,-19.4152 422.877,-26.3443\"/>\n</g>\n<!-- 32&#45;&gt;36 -->\n<g id=\"edge59\" class=\"edge\">\n<title>32&#45;&gt;36</title>\n<path fill=\"none\" stroke=\"#000000\" d=\"M581.1295,-79.0647C556.7778,-66.8889 517.238,-47.119 489.7715,-33.3858\"/>\n<polygon fill=\"#000000\" stroke=\"#000000\" points=\"491.114,-30.1439 480.6045,-28.8022 487.9835,-36.4049 491.114,-30.1439\"/>\n</g>\n<!-- 34&#45;&gt;36 -->\n<g id=\"edge60\" class=\"edge\">\n<title>34&#45;&gt;36</title>\n<path fill=\"none\" stroke=\"#000000\" d=\"M726.0672,-78.4245C721.22,-76.0584 716.0113,-73.7579 711,-72 636.6986,-45.9365 545.4658,-30.1884 495.692,-22.89\"/>\n<polygon fill=\"#000000\" stroke=\"#000000\" points=\"496.1167,-19.4152 485.7211,-21.4602 495.123,-26.3443 496.1167,-19.4152\"/>\n</g>\n</g>\n</svg>\n"
          },
          "metadata": {
            "tags": []
          },
          "execution_count": 5
        }
      ]
    },
    {
      "cell_type": "markdown",
      "metadata": {
        "id": "Ax9TNgyygMGB",
        "colab_type": "text"
      },
      "source": [
        "# Conclusion\n",
        "\n",
        "According to the [solutions page](https://www.theguardian.com/science/2020/feb/10/did-you-solve-it-are-you-smart-enough-for-mit), The two other nine-letter words that share this \"decomposable\" property are `sparkling` and `startling`. Try this out using those two words.\n",
        "\n",
        "As well, there is a [Snopes article](https://www.snopes.com/fact-check/nine-letters-puzzle/) discussing other possible solutions, including some ten-letter possibilities.\n",
        "\n",
        "It might be an interesting challenge to use some of the above code to check all possible nine-letter English words to see which are decomposible in this manner."
      ]
    }
  ]
}
{
 "cells": [
  {
   "cell_type": "markdown",
   "metadata": {},
   "source": [
    "![Callysto.ca Banner](https://github.com/callysto/curriculum-notebooks/blob/master/callysto-notebook-banner-top.jpg?raw=true)"
   ]
  },
  {
   "cell_type": "markdown",
   "metadata": {},
   "source": [
    "# Improper Fractions and Mixed Numbers\n",
    "\n",
    "This notebook has Python code cells containing algorithms to convert between improper fractions and mixed numbers.\n",
    "\n",
    "You can change the values in the code, then click the `▶Run` button to do the conversion. Code lines that start with a `#` are just to explain to humans what we are doing, and are ignored by the computer."
   ]
  },
  {
   "cell_type": "markdown",
   "metadata": {},
   "source": [
    "## Converting an Improper Fraction to a Mixed Number\n",
    "\n",
    "To convert an improper fraction to a mixed number, we divide the numerator by the denominator. We get a whole number (integer) result, and put the remainder over the original denominator as a proper fraction.\n",
    "\n",
    "A mixed number is then a combination of that integer and proper fraction."
   ]
  },
  {
   "cell_type": "code",
   "execution_count": null,
   "metadata": {},
   "outputs": [],
   "source": [
    "starting_fraction = 7/3\n",
    "\n",
    "# impor the Fraction code library\n",
    "from fractions import Fraction\n",
    "\n",
    "# convert to a Fraction \"instance\"\n",
    "improper_fraction = Fraction(starting_fraction).limit_denominator(1000)\n",
    "\n",
    "# store the numerator and denominator in variables\n",
    "n = improper_fraction.numerator\n",
    "d = improper_fraction.denominator\n",
    "\n",
    "# find the whole number part of the mixed number and convert to type \"int\"\n",
    "integer = int(n/d)\n",
    "\n",
    "# find the remainder after division using modulo (%) and make it the numerator of a new proper fraction\n",
    "remaining_fraction = Fraction(n%d, d)\n",
    "\n",
    "# display the results\n",
    "print('Converting the improper fraction', improper_fraction)\n",
    "print('to a mixed number results in', integer, remaining_fraction)"
   ]
  },
  {
   "cell_type": "markdown",
   "metadata": {},
   "source": [
    "## Converting a Mixed Number to an Improper Fraction\n",
    "\n",
    "To convert from a mixed number to an improper fraction, we multiply the whole number by the denominator and add that to the original numerator."
   ]
  },
  {
   "cell_type": "code",
   "execution_count": null,
   "metadata": {},
   "outputs": [],
   "source": [
    "whole_number = 2\n",
    "remaining_fraction = 2/3\n",
    "\n",
    "\n",
    "from fractions import Fraction\n",
    "remaining_fraction = Fraction(remaining_fraction).limit_denominator(1000)\n",
    "n = remaining_fraction.numerator\n",
    "d = remaining_fraction.denominator\n",
    "improper_numerator = (whole_number * d) + n\n",
    "improper_fraction = Fraction(improper_numerator, d)\n",
    "print('Converting the mixed number', whole_number, remaining_fraction)\n",
    "print('to an improper fraction results in', improper_fraction)"
   ]
  },
  {
   "cell_type": "markdown",
   "metadata": {},
   "source": [
    "[![Callysto.ca License](https://github.com/callysto/curriculum-notebooks/blob/master/callysto-notebook-banner-bottom.jpg?raw=true)](https://github.com/callysto/curriculum-notebooks/blob/master/LICENSE.md)"
   ]
  }
 ],
 "metadata": {
  "kernelspec": {
   "display_name": "Python 3",
   "language": "python",
   "name": "python3"
  },
  "language_info": {
   "codemirror_mode": {
    "name": "ipython",
    "version": 3
   },
   "file_extension": ".py",
   "mimetype": "text/x-python",
   "name": "python",
   "nbconvert_exporter": "python",
   "pygments_lexer": "ipython3",
   "version": "3.7.6"
  }
 },
 "nbformat": 4,
 "nbformat_minor": 4
}

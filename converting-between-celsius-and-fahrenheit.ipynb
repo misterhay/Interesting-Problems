{
 "cells": [
  {
   "cell_type": "markdown",
   "metadata": {},
   "source": [
    "# Converting Between Celsius and Fahrenheit\n",
    "\n",
    "There are two common [temperature](https://en.wikipedia.org/wiki/Temperature) scales, [Celsius](https://en.wikipedia.org/wiki/Celsius) and [Fahrenheit](https://en.wikipedia.org/wiki/Fahrenheit) (as well as [Kelvin](https://en.wikipedia.org/wiki/Kelvin) and [Rankine](https://en.wikipedia.org/wiki/Rankine_scale) that we won't talk about today).\n",
    "\n",
    "I've heard that these two scales intersect at a particular temperature. Let's find that temperature.\n",
    "\n",
    "First we'll create a couple of functions to convert from one to another."
   ]
  },
  {
   "cell_type": "code",
   "execution_count": null,
   "metadata": {},
   "outputs": [],
   "source": [
    "def celsius_to_fahrenheit(c):\n",
    "    f = c * (9/5) + 32\n",
    "    return f\n",
    "\n",
    "def fahrenheit_to_celsius(f):\n",
    "    c = (f - 32) * (5/9)\n",
    "    return c"
   ]
  },
  {
   "cell_type": "markdown",
   "metadata": {},
   "source": [
    "Then use those functions to convert temperatures."
   ]
  },
  {
   "cell_type": "code",
   "execution_count": null,
   "metadata": {},
   "outputs": [],
   "source": [
    "print(celsius_to_fahrenheit(20))"
   ]
  },
  {
   "cell_type": "code",
   "execution_count": null,
   "metadata": {},
   "outputs": [],
   "source": [
    "print(fahrenheit_to_celsius(68))"
   ]
  },
  {
   "cell_type": "markdown",
   "metadata": {},
   "source": [
    "Create a dataframe of values in Celsius and their Fahrenheit equivalents."
   ]
  },
  {
   "cell_type": "code",
   "execution_count": null,
   "metadata": {},
   "outputs": [],
   "source": [
    "import pandas as pd\n",
    "import numpy as np\n",
    "\n",
    "celsius_values = np.arange(-273, 150, 1)\n",
    "fahrenheit_values = celsius_to_fahrenheit(celsius_values)\n",
    "\n",
    "data = {'Celsius':celsius_values, 'Fahrenheit':fahrenheit_values}\n",
    "temperatures = pd.DataFrame(data)\n",
    "temperatures.tail()"
   ]
  },
  {
   "cell_type": "markdown",
   "metadata": {},
   "source": [
    "Graph the Celsius and Fahrenheit values."
   ]
  },
  {
   "cell_type": "code",
   "execution_count": null,
   "metadata": {},
   "outputs": [],
   "source": [
    "import cufflinks as cf\n",
    "cf.go_offline()"
   ]
  },
  {
   "cell_type": "code",
   "execution_count": null,
   "metadata": {},
   "outputs": [],
   "source": [
    "# If you are using Colab\n",
    "def enable_plotly_in_cell():\n",
    "    import IPython\n",
    "    from plotly.offline import init_notebook_mode\n",
    "    display(IPython.core.display.HTML('''<script src=\"/static/components/requirejs/require.js\"></script>'''))\n",
    "    init_notebook_mode(connected=False)\n",
    "get_ipython().events.register('pre_run_cell', enable_plotly_in_cell)\n",
    "print('Interactive plotting enabled')"
   ]
  },
  {
   "cell_type": "code",
   "execution_count": null,
   "metadata": {},
   "outputs": [],
   "source": [
    "temperatures.iplot()"
   ]
  },
  {
   "cell_type": "markdown",
   "metadata": {},
   "source": [
    "It looks like the lines cross at a value around -40 degrees. To verify, select the row from the dataframe that we think corresponds to the matching temperature."
   ]
  },
  {
   "cell_type": "code",
   "execution_count": null,
   "metadata": {},
   "outputs": [],
   "source": [
    "temperatures[temperatures['Celsius'] == -40]"
   ]
  },
  {
   "cell_type": "markdown",
   "metadata": {},
   "source": [
    "We found that the Celsius and Fahrenheit temperature scales intersect at -40 degrees.\n",
    "\n",
    "That's pretty cold. But as they say in Scandinavian countries, \"There's no bad weather, only bad clothes\" (which apparently rhymes in both Norwegian and Swedish)."
   ]
  },
  {
   "cell_type": "code",
   "execution_count": 2,
   "metadata": {},
   "outputs": [
    {
     "name": "stdout",
     "output_type": "stream",
     "text": [
      "Requirement already satisfied: googletrans in /anaconda3/lib/python3.7/site-packages (2.4.0)\n",
      "Requirement already satisfied: requests in /anaconda3/lib/python3.7/site-packages (from googletrans) (2.22.0)\n",
      "Requirement already satisfied: idna<2.9,>=2.5 in /anaconda3/lib/python3.7/site-packages (from requests->googletrans) (2.8)\n",
      "Requirement already satisfied: urllib3!=1.25.0,!=1.25.1,<1.26,>=1.21.1 in /anaconda3/lib/python3.7/site-packages (from requests->googletrans) (1.24.2)\n",
      "Requirement already satisfied: chardet<3.1.0,>=3.0.2 in /anaconda3/lib/python3.7/site-packages (from requests->googletrans) (3.0.4)\n",
      "Requirement already satisfied: certifi>=2017.4.17 in /anaconda3/lib/python3.7/site-packages (from requests->googletrans) (2019.6.16)\n",
      "Requirement already satisfied: gTTS in /anaconda3/lib/python3.7/site-packages (2.1.0)\n",
      "Requirement already satisfied: gtts-token>=1.1.3 in /anaconda3/lib/python3.7/site-packages (from gTTS) (1.1.3)\n",
      "Requirement already satisfied: click in /anaconda3/lib/python3.7/site-packages (from gTTS) (7.0)\n",
      "Requirement already satisfied: six in /anaconda3/lib/python3.7/site-packages (from gTTS) (1.12.0)\n",
      "Requirement already satisfied: beautifulsoup4 in /anaconda3/lib/python3.7/site-packages (from gTTS) (4.7.1)\n",
      "Requirement already satisfied: requests in /anaconda3/lib/python3.7/site-packages (from gTTS) (2.22.0)\n",
      "Requirement already satisfied: soupsieve>=1.2 in /anaconda3/lib/python3.7/site-packages (from beautifulsoup4->gTTS) (1.8)\n",
      "Requirement already satisfied: urllib3!=1.25.0,!=1.25.1,<1.26,>=1.21.1 in /anaconda3/lib/python3.7/site-packages (from requests->gTTS) (1.24.2)\n",
      "Requirement already satisfied: certifi>=2017.4.17 in /anaconda3/lib/python3.7/site-packages (from requests->gTTS) (2019.6.16)\n",
      "Requirement already satisfied: chardet<3.1.0,>=3.0.2 in /anaconda3/lib/python3.7/site-packages (from requests->gTTS) (3.0.4)\n",
      "Requirement already satisfied: idna<2.9,>=2.5 in /anaconda3/lib/python3.7/site-packages (from requests->gTTS) (2.8)\n"
     ]
    }
   ],
   "source": [
    "!pip install googletrans\n",
    "!pip install gTTS\n",
    "from googletrans import Translator\n",
    "tran = Translator()\n",
    "import gtts\n",
    "from IPython.display import Audio, display"
   ]
  },
  {
   "cell_type": "code",
   "execution_count": null,
   "metadata": {},
   "outputs": [],
   "source": [
    "phrase = 'No bad weather, just bad clothes'"
   ]
  },
  {
   "cell_type": "code",
   "execution_count": 19,
   "metadata": {},
   "outputs": [
    {
     "name": "stdout",
     "output_type": "stream",
     "text": [
      "Ikke dårlig vær, bare dårlige klær\n"
     ]
    },
    {
     "data": {
      "text/html": [
       "\n",
       "                <audio  controls=\"controls\" >\n",
       "                    <source src=\"data:audio/mpeg;base64,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\" type=\"audio/mpeg\" />\n",
       "                    Your browser does not support the audio element.\n",
       "                </audio>\n",
       "              "
      ],
      "text/plain": [
       "<IPython.lib.display.Audio object>"
      ]
     },
     "metadata": {},
     "output_type": "display_data"
    }
   ],
   "source": [
    "norwegian = 'no'\n",
    "norwegian_translation = tran.translate(phrase, dest=norwegian).extra_data['translation'][0][0]\n",
    "print(norwegian_translation)\n",
    "\n",
    "norwegian_text_to_speech = gtts.gTTS(norwegian_translation, lang=norwegian)\n",
    "norwegian_text_to_speech.save('norwegian.mp3')\n",
    "display(Audio('norwegian.mp3'))"
   ]
  },
  {
   "cell_type": "code",
   "execution_count": 18,
   "metadata": {},
   "outputs": [
    {
     "name": "stdout",
     "output_type": "stream",
     "text": [
      "Inget dåligt väder, bara dåliga kläder\n"
     ]
    },
    {
     "data": {
      "text/html": [
       "\n",
       "                <audio  controls=\"controls\" >\n",
       "                    <source src=\"data:audio/mpeg;base64,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\" type=\"audio/mpeg\" />\n",
       "                    Your browser does not support the audio element.\n",
       "                </audio>\n",
       "              "
      ],
      "text/plain": [
       "<IPython.lib.display.Audio object>"
      ]
     },
     "metadata": {},
     "output_type": "display_data"
    }
   ],
   "source": [
    "swedish = 'sv'\n",
    "swedish_translation = tran.translate(phrase, dest=swedish).extra_data['translation'][0][0]\n",
    "print(swedish_translation)\n",
    "\n",
    "swedish_text_to_speech = gtts.gTTS(swedish_translation, lang=swedish)\n",
    "swedish_text_to_speech.save('swedish.mp3')\n",
    "display(Audio('swedish.mp3'))"
   ]
  }
 ],
 "metadata": {
  "kernelspec": {
   "display_name": "Python 3",
   "language": "python",
   "name": "python3"
  },
  "language_info": {
   "codemirror_mode": {
    "name": "ipython",
    "version": 3
   },
   "file_extension": ".py",
   "mimetype": "text/x-python",
   "name": "python",
   "nbconvert_exporter": "python",
   "pygments_lexer": "ipython3",
   "version": "3.7.3"
  }
 },
 "nbformat": 4,
 "nbformat_minor": 2
}

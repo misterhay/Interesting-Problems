{
 "cells": [
  {
   "cell_type": "markdown",
   "metadata": {},
   "source": [
    "# Converting Between Celsius and Fahrenheit\n",
    "\n",
    "There are two common [temperature](https://en.wikipedia.org/wiki/Temperature) scales, [Celsius](https://en.wikipedia.org/wiki/Celsius) and [Fahrenheit](https://en.wikipedia.org/wiki/Fahrenheit) (as well as [Kelvin](https://en.wikipedia.org/wiki/Kelvin) and [Rankine](https://en.wikipedia.org/wiki/Rankine_scale) that we won't talk about today).\n",
    "\n",
    "I've heard that these two scales intersect at a particular temperature. Let's find that temperature.\n",
    "\n",
    "First we'll create a couple of functions to convert from one to another."
   ]
  },
  {
   "cell_type": "code",
   "execution_count": null,
   "metadata": {},
   "outputs": [],
   "source": [
    "def celsius_to_fahrenheit(c):\n",
    "    f = c * (9/5) + 32\n",
    "    return f\n",
    "\n",
    "def fahrenheit_to_celsius(f):\n",
    "    c = (f - 32) * (5/9)\n",
    "    return c"
   ]
  },
  {
   "cell_type": "markdown",
   "metadata": {},
   "source": [
    "Then use those functions to convert temperatures."
   ]
  },
  {
   "cell_type": "code",
   "execution_count": null,
   "metadata": {},
   "outputs": [],
   "source": [
    "print(celsius_to_fahrenheit(20))"
   ]
  },
  {
   "cell_type": "code",
   "execution_count": null,
   "metadata": {},
   "outputs": [],
   "source": [
    "print(fahrenheit_to_celsius(68))"
   ]
  },
  {
   "cell_type": "markdown",
   "metadata": {},
   "source": [
    "Create a dataframe of values in Celsius and their Fahrenheit equivalents."
   ]
  },
  {
   "cell_type": "code",
   "execution_count": null,
   "metadata": {},
   "outputs": [],
   "source": [
    "import pandas as pd\n",
    "import numpy as np\n",
    "\n",
    "celsius_values = np.arange(-273, 150, 1)\n",
    "fahrenheit_values = celsius_to_fahrenheit(celsius_values)\n",
    "\n",
    "data = {'Celsius':celsius_values, 'Fahrenheit':fahrenheit_values}\n",
    "temperatures = pd.DataFrame(data)\n",
    "temperatures.tail()"
   ]
  },
  {
   "cell_type": "markdown",
   "metadata": {},
   "source": [
    "Graph the Celsius and Fahrenheit values."
   ]
  },
  {
   "cell_type": "code",
   "execution_count": null,
   "metadata": {},
   "outputs": [],
   "source": [
    "import cufflinks as cf\n",
    "cf.go_offline()"
   ]
  },
  {
   "cell_type": "code",
   "execution_count": null,
   "metadata": {},
   "outputs": [],
   "source": [
    "# If you are using Colab\n",
    "def enable_plotly_in_cell():\n",
    "    import IPython\n",
    "    from plotly.offline import init_notebook_mode\n",
    "    display(IPython.core.display.HTML('''<script src=\"/static/components/requirejs/require.js\"></script>'''))\n",
    "    init_notebook_mode(connected=False)\n",
    "get_ipython().events.register('pre_run_cell', enable_plotly_in_cell)\n",
    "print('Interactive plotting enabled')"
   ]
  },
  {
   "cell_type": "code",
   "execution_count": null,
   "metadata": {},
   "outputs": [],
   "source": [
    "temperatures.iplot()"
   ]
  },
  {
   "cell_type": "markdown",
   "metadata": {},
   "source": [
    "It looks like the lines cross at a value around -40 degrees. To verify, select the row from the dataframe that we think corresponds to the matching temperature."
   ]
  },
  {
   "cell_type": "code",
   "execution_count": null,
   "metadata": {},
   "outputs": [],
   "source": [
    "temperatures[temperatures['Celsius'] == -40]"
   ]
  },
  {
   "cell_type": "markdown",
   "metadata": {},
   "source": [
    "We found that the Celsius and Fahrenheit temperature scales intersect at -40 degrees.\n",
    "\n",
    "That's pretty cold. But as they say in Scandinavian countries, \"There's no bad weather, only bad clothes\" (which apparently rhymes in both Norwegian and Swedish).\n",
    "\n",
    "Just for fun, let's translate that phrase using Google Translate and then have the computer speak the translation using Google text-to-speech.\n",
    "\n",
    "*Thanks to [Rajan Patel](https://github.com/rgpatel) for the googletrans and gTTS ideas.*"
   ]
  },
  {
   "cell_type": "code",
   "execution_count": null,
   "metadata": {},
   "outputs": [],
   "source": [
    "!pip install googletrans\n",
    "!pip install gTTS\n",
    "from googletrans import Translator\n",
    "tran = Translator()\n",
    "import gtts\n",
    "from IPython.display import Audio, display"
   ]
  },
  {
   "cell_type": "code",
   "execution_count": null,
   "metadata": {},
   "outputs": [],
   "source": [
    "phrase = 'No bad weather, just bad clothes'"
   ]
  },
  {
   "cell_type": "code",
   "execution_count": null,
   "metadata": {},
   "outputs": [],
   "source": [
    "norwegian = 'no'\n",
    "norwegian_translation = tran.translate(phrase, dest=norwegian).extra_data['translation'][0][0]\n",
    "print(norwegian_translation)\n",
    "\n",
    "norwegian_text_to_speech = gtts.gTTS(norwegian_translation, lang=norwegian)\n",
    "norwegian_text_to_speech.save('norwegian.mp3')\n",
    "display(Audio('norwegian.mp3'))"
   ]
  },
  {
   "cell_type": "code",
   "execution_count": null,
   "metadata": {},
   "outputs": [],
   "source": [
    "swedish = 'sv'\n",
    "swedish_translation = tran.translate(phrase, dest=swedish).extra_data['translation'][0][0]\n",
    "print(swedish_translation)\n",
    "\n",
    "swedish_text_to_speech = gtts.gTTS(swedish_translation, lang=swedish)\n",
    "swedish_text_to_speech.save('swedish.mp3')\n",
    "display(Audio('swedish.mp3'))"
   ]
  }
 ],
 "metadata": {
  "kernelspec": {
   "display_name": "Python 3",
   "language": "python",
   "name": "python3"
  },
  "language_info": {
   "codemirror_mode": {
    "name": "ipython",
    "version": 3
   },
   "file_extension": ".py",
   "mimetype": "text/x-python",
   "name": "python",
   "nbconvert_exporter": "python",
   "pygments_lexer": "ipython3",
   "version": "3.7.5"
  }
 },
 "nbformat": 4,
 "nbformat_minor": 2
}

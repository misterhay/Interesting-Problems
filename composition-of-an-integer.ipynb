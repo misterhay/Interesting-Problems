{
 "cells": [
  {
   "cell_type": "markdown",
   "metadata": {},
   "source": [
    "# Composition of an Integer\n",
    "\n",
    "In the [February 2020 edition of the MCATA Newsletter](https://www.mathteachers.ab.ca/wp-content/uploads/2020/03/Mathematics-Council-Newsletter-Vol-38-No-2-February-20.pdf) there is a problem posed by President Dave Martin.\n",
    "\n",
    "    How many ways can you add 2 distinct positive whole numbers together and get 10? What about 3 distinct positive whole numbers? What about 4 distinct positive whole numbers that sum to 20? How many ways can you add n distinct positive whole numbers that sum to k, where k is a positive whole number?\n",
    "\n",
    "We'll assume that zero is an integer, that the order of addition matters, and that \"distinct\" means each whole number being added needs to be unique."
   ]
  },
  {
   "cell_type": "markdown",
   "metadata": {},
   "source": [
    "## How many ways can you add 2 distinct positive whole numbers together and get 10?"
   ]
  },
  {
   "cell_type": "code",
   "execution_count": null,
   "metadata": {},
   "outputs": [],
   "source": [
    "total = 10\n",
    "number_of_ways = 0\n",
    "\n",
    "for a in range(total+1):\n",
    "    for b in range(total+1):\n",
    "        if a + b == total:\n",
    "            if a != b:\n",
    "                #print(a, b)\n",
    "                number_of_ways += 1\n",
    "print('We can add two distinct integers', number_of_ways, 'ways to get a sum of', total)"
   ]
  },
  {
   "cell_type": "markdown",
   "metadata": {},
   "source": [
    "## What about 3 distinct positive whole numbers?"
   ]
  },
  {
   "cell_type": "code",
   "execution_count": null,
   "metadata": {},
   "outputs": [],
   "source": [
    "total = 10\n",
    "number_of_ways = 0\n",
    "\n",
    "for a in range(total+1):\n",
    "    for b in range(total+1):\n",
    "        for c in range(total+1):\n",
    "            if a + b + c == total:\n",
    "                if a != b and b != c and a != c:\n",
    "                    #print(a, b, c)\n",
    "                    number_of_ways += 1\n",
    "print('We can add three distinct integers', number_of_ways, 'ways to get a sum of', total)"
   ]
  },
  {
   "cell_type": "markdown",
   "metadata": {},
   "source": [
    "## What about 4 distinct positive whole numbers that sum to 20?"
   ]
  },
  {
   "cell_type": "code",
   "execution_count": null,
   "metadata": {},
   "outputs": [],
   "source": [
    "total = 10\n",
    "number_of_ways = 0\n",
    "\n",
    "for a in range(total+1):\n",
    "    for b in range(total+1):\n",
    "        for c in range(total+1):\n",
    "            for d in range(total+1):\n",
    "                if a + b + c + d == total:\n",
    "                    values = [a, b, c, d]\n",
    "                    if values.count(a) + values.count(b) + values.count(c) + values.count(d) == 4:\n",
    "                    #if True:\n",
    "                        #print(a, b, c, d)\n",
    "                        number_of_ways += 1\n",
    "print('We can add four distinct integers', number_of_ways, 'ways to get a sum of', total)"
   ]
  },
  {
   "cell_type": "markdown",
   "metadata": {},
   "source": [
    "## How many ways can you add n distinct positive whole numbers that sum to k, where k is a positive whole number?\n",
    "\n",
    "This is still a work in progress..."
   ]
  },
  {
   "cell_type": "code",
   "execution_count": null,
   "metadata": {},
   "outputs": [],
   "source": [
    "def how_many_ways(total):\n",
    "    number_of_ways = 0\n",
    "    for a in range(total+1):\n",
    "        for b in range(total+1):\n",
    "            for c in range(total+1):\n",
    "                for d in range(total+1):\n",
    "                    if a + b + c + d == total:\n",
    "                        values = [a, b, c, d]\n",
    "                        if values.count(a) + values.count(b) + values.count(c) + values.count(d) == 4:\n",
    "                            number_of_ways += 1\n",
    "    return number_of_ways\n",
    "\n",
    "\n",
    "import pandas as pd\n",
    "df = pd.DataFrame()\n",
    "\n",
    "for k in range(50):\n",
    "    df = df.append({'k':k, 'ways':how_many_ways(k)}, ignore_index=True)\n",
    "\n",
    "import cufflinks as cf\n",
    "cf.go_offline()\n",
    "df.iplot(x='k')"
   ]
  }
 ],
 "metadata": {
  "kernelspec": {
   "display_name": "Python 3",
   "language": "python",
   "name": "python3"
  },
  "language_info": {
   "codemirror_mode": {
    "name": "ipython",
    "version": 3
   },
   "file_extension": ".py",
   "mimetype": "text/x-python",
   "name": "python",
   "nbconvert_exporter": "python",
   "pygments_lexer": "ipython3",
   "version": "3.7.6"
  }
 },
 "nbformat": 4,
 "nbformat_minor": 4
}

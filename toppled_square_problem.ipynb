{
  "nbformat": 4,
  "nbformat_minor": 0,
  "metadata": {
    "colab": {
      "name": "toppled-square-problem.ipynb",
      "provenance": [],
      "authorship_tag": "ABX9TyM1tXovoAbEp9+gdmQJV8eV",
      "include_colab_link": true
    },
    "kernelspec": {
      "name": "python3",
      "display_name": "Python 3"
    }
  },
  "cells": [
    {
      "cell_type": "markdown",
      "metadata": {
        "id": "view-in-github",
        "colab_type": "text"
      },
      "source": [
        "<a href=\"https://colab.research.google.com/github/misterhay/Interesting-Problems/blob/master/toppled_square_problem.ipynb\" target=\"_parent\"><img src=\"https://colab.research.google.com/assets/colab-badge.svg\" alt=\"Open In Colab\"/></a>"
      ]
    },
    {
      "cell_type": "markdown",
      "metadata": {
        "id": "vzM-NEPgRWpv",
        "colab_type": "text"
      },
      "source": [
        "# Area of the Toppled Square\n",
        "\n",
        "What is the area of the toppled square?\n",
        "\n",
        "from [Catriona Shearer](https://twitter.com/Cshearer41/status/1026837809716518912)\n",
        "\n",
        "![toppled square leaning against squares with areas of 27, 12, and 3](https://pbs.twimg.com/media/DkAPiFlXoAEZ-rT?format=jpg&name=medium)"
      ]
    },
    {
      "cell_type": "code",
      "metadata": {
        "id": "NeUibaUYJJb2",
        "colab_type": "code",
        "colab": {
          "base_uri": "https://localhost:8080/",
          "height": 34
        },
        "outputId": "514d45a7-6bc0-4ad3-acec-8c6b156aa409"
      },
      "source": [
        "from math import sqrt, atan, pi, sin\n",
        "\n",
        "# find the side lengths of the three squares on the right\n",
        "a = sqrt(3)\n",
        "b = sqrt(12)\n",
        "c = sqrt(27)\n",
        "\n",
        "# find angle between the bottom right corner of the big box and the ground\n",
        "# using the middle box\n",
        "y = c - b\n",
        "theta = atan(b/y) # in radians\n",
        "\n",
        "# use that angle to find the hypotenuses of three right triangles\n",
        "j = a/(sin(theta))\n",
        "k = b/(sin(theta))\n",
        "l = c/(sin(theta))\n",
        "\n",
        "# add up the three hypotenuses, then square to get area of big box\n",
        "big_side = j + k + l\n",
        "box_area = big_side * big_side\n",
        "print('The area of the big box is', box_area)"
      ],
      "execution_count": 13,
      "outputs": [
        {
          "output_type": "stream",
          "text": [
            "The area of the big box is 135.00000000000003\n"
          ],
          "name": "stdout"
        }
      ]
    }
  ]
}